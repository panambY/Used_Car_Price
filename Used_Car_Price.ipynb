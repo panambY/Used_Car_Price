{
 "cells": [
  {
   "cell_type": "markdown",
   "metadata": {},
   "source": [
    "# 0.0 IMPORT"
   ]
  },
  {
   "cell_type": "code",
   "execution_count": 1,
   "metadata": {
    "ExecuteTime": {
     "end_time": "2020-07-24T01:04:52.438827Z",
     "start_time": "2020-07-24T01:04:50.989705Z"
    }
   },
   "outputs": [],
   "source": [
    "import pandas as pd\n",
    "import numpy as np\n",
    "import matplotlib.pyplot as plt\n",
    "import seaborn as sns\n",
    "\n",
    "from IPython.core.display  import HTML"
   ]
  },
  {
   "cell_type": "markdown",
   "metadata": {
    "heading_collapsed": true
   },
   "source": [
    "## 0.1 Helper Function"
   ]
  },
  {
   "cell_type": "code",
   "execution_count": 2,
   "metadata": {
    "ExecuteTime": {
     "end_time": "2020-07-24T01:04:52.451793Z",
     "start_time": "2020-07-24T01:04:52.440826Z"
    },
    "hidden": true
   },
   "outputs": [],
   "source": [
    "def jupyter_settings():\n",
    "    %matplotlib inline\n",
    "    %pylab inline\n",
    "    \n",
    "    plt.style.use( 'bmh' )\n",
    "    plt.rcParams['figure.figsize'] = [25, 12]\n",
    "    plt.rcParams['font.size'] = 24\n",
    "    \n",
    "    display( HTML( '<style>.container { width:100% !important; }</style>') )\n",
    "    pd.options.display.max_columns = None\n",
    "    pd.options.display.max_rows = None\n",
    "    pd.set_option( 'display.expand_frame_repr', False )\n",
    "    \n",
    "    sns.set()"
   ]
  },
  {
   "cell_type": "code",
   "execution_count": 3,
   "metadata": {
    "ExecuteTime": {
     "end_time": "2020-07-24T01:04:52.474732Z",
     "start_time": "2020-07-24T01:04:52.453788Z"
    },
    "hidden": true
   },
   "outputs": [
    {
     "name": "stdout",
     "output_type": "stream",
     "text": [
      "Populating the interactive namespace from numpy and matplotlib\n"
     ]
    },
    {
     "data": {
      "text/html": [
       "<style>.container { width:100% !important; }</style>"
      ],
      "text/plain": [
       "<IPython.core.display.HTML object>"
      ]
     },
     "metadata": {},
     "output_type": "display_data"
    }
   ],
   "source": [
    "jupyter_settings()"
   ]
  },
  {
   "cell_type": "markdown",
   "metadata": {
    "heading_collapsed": true
   },
   "source": [
    "## 0.2 Loading Data"
   ]
  },
  {
   "cell_type": "code",
   "execution_count": 4,
   "metadata": {
    "ExecuteTime": {
     "end_time": "2020-07-24T01:05:07.586557Z",
     "start_time": "2020-07-24T01:04:52.476726Z"
    },
    "hidden": true
   },
   "outputs": [],
   "source": [
    "# Whats is low_memory?\n",
    "df_raw = pd.read_csv('data/vehicles.csv', low_memory=False)"
   ]
  },
  {
   "cell_type": "code",
   "execution_count": 5,
   "metadata": {
    "ExecuteTime": {
     "end_time": "2020-07-24T01:05:07.676317Z",
     "start_time": "2020-07-24T01:05:07.604510Z"
    },
    "hidden": true
   },
   "outputs": [
    {
     "data": {
      "text/html": [
       "<div>\n",
       "<style scoped>\n",
       "    .dataframe tbody tr th:only-of-type {\n",
       "        vertical-align: middle;\n",
       "    }\n",
       "\n",
       "    .dataframe tbody tr th {\n",
       "        vertical-align: top;\n",
       "    }\n",
       "\n",
       "    .dataframe thead th {\n",
       "        text-align: right;\n",
       "    }\n",
       "</style>\n",
       "<table border=\"1\" class=\"dataframe\">\n",
       "  <thead>\n",
       "    <tr style=\"text-align: right;\">\n",
       "      <th></th>\n",
       "      <th>id</th>\n",
       "      <th>url</th>\n",
       "      <th>region</th>\n",
       "      <th>region_url</th>\n",
       "      <th>price</th>\n",
       "      <th>year</th>\n",
       "      <th>manufacturer</th>\n",
       "      <th>model</th>\n",
       "      <th>condition</th>\n",
       "      <th>cylinders</th>\n",
       "      <th>fuel</th>\n",
       "      <th>odometer</th>\n",
       "      <th>title_status</th>\n",
       "      <th>transmission</th>\n",
       "      <th>vin</th>\n",
       "      <th>drive</th>\n",
       "      <th>size</th>\n",
       "      <th>type</th>\n",
       "      <th>paint_color</th>\n",
       "      <th>image_url</th>\n",
       "      <th>description</th>\n",
       "      <th>county</th>\n",
       "      <th>state</th>\n",
       "      <th>lat</th>\n",
       "      <th>long</th>\n",
       "    </tr>\n",
       "  </thead>\n",
       "  <tbody>\n",
       "    <tr>\n",
       "      <th>343889</th>\n",
       "      <td>7111002539</td>\n",
       "      <td>https://fresno.craigslist.org/ctd/d/fresno-201...</td>\n",
       "      <td>fresno / madera</td>\n",
       "      <td>https://fresno.craigslist.org</td>\n",
       "      <td>14900</td>\n",
       "      <td>2014.0</td>\n",
       "      <td>subaru</td>\n",
       "      <td>forester</td>\n",
       "      <td>NaN</td>\n",
       "      <td>NaN</td>\n",
       "      <td>gas</td>\n",
       "      <td>106873.0</td>\n",
       "      <td>clean</td>\n",
       "      <td>automatic</td>\n",
       "      <td>JF2SJAHC7EH486388</td>\n",
       "      <td>NaN</td>\n",
       "      <td>NaN</td>\n",
       "      <td>NaN</td>\n",
       "      <td>white</td>\n",
       "      <td>https://images.craigslist.org/00u0u_6e9pgdYiJ8...</td>\n",
       "      <td>Fresno Acura address:    7250 N Palm Avenue Fr...</td>\n",
       "      <td>NaN</td>\n",
       "      <td>ca</td>\n",
       "      <td>36.8414</td>\n",
       "      <td>-119.807</td>\n",
       "    </tr>\n",
       "  </tbody>\n",
       "</table>\n",
       "</div>"
      ],
      "text/plain": [
       "                id                                                url           region                     region_url  price    year manufacturer     model condition cylinders fuel  odometer title_status transmission                vin drive size type paint_color                                          image_url                                        description  county state      lat     long\n",
       "343889  7111002539  https://fresno.craigslist.org/ctd/d/fresno-201...  fresno / madera  https://fresno.craigslist.org  14900  2014.0       subaru  forester       NaN       NaN  gas  106873.0        clean    automatic  JF2SJAHC7EH486388   NaN  NaN  NaN       white  https://images.craigslist.org/00u0u_6e9pgdYiJ8...  Fresno Acura address:    7250 N Palm Avenue Fr...     NaN    ca  36.8414 -119.807"
      ]
     },
     "execution_count": 5,
     "metadata": {},
     "output_type": "execute_result"
    }
   ],
   "source": [
    "df_raw.sample()"
   ]
  },
  {
   "cell_type": "markdown",
   "metadata": {},
   "source": [
    "# 1.0 STEP 01 - DESCRIPTION OF DATA"
   ]
  },
  {
   "cell_type": "code",
   "execution_count": 84,
   "metadata": {
    "ExecuteTime": {
     "end_time": "2020-07-24T02:18:07.537687Z",
     "start_time": "2020-07-24T02:18:07.346180Z"
    }
   },
   "outputs": [],
   "source": [
    "df1 = df_raw.copy()"
   ]
  },
  {
   "cell_type": "markdown",
   "metadata": {
    "heading_collapsed": true
   },
   "source": [
    "## 1.1 Rename Columns"
   ]
  },
  {
   "cell_type": "code",
   "execution_count": 7,
   "metadata": {
    "ExecuteTime": {
     "end_time": "2020-07-24T01:05:07.772573Z",
     "start_time": "2020-07-24T01:05:07.765592Z"
    },
    "hidden": true
   },
   "outputs": [
    {
     "data": {
      "text/plain": [
       "Index(['id', 'url', 'region', 'region_url', 'price', 'year', 'manufacturer',\n",
       "       'model', 'condition', 'cylinders', 'fuel', 'odometer', 'title_status',\n",
       "       'transmission', 'vin', 'drive', 'size', 'type', 'paint_color',\n",
       "       'image_url', 'description', 'county', 'state', 'lat', 'long'],\n",
       "      dtype='object')"
      ]
     },
     "execution_count": 7,
     "metadata": {},
     "output_type": "execute_result"
    }
   ],
   "source": [
    "df1.columns\n",
    "\n",
    "# The columns already have a label that I want and easy to understand."
   ]
  },
  {
   "cell_type": "markdown",
   "metadata": {},
   "source": [
    "## 1.2 Data Dimensions"
   ]
  },
  {
   "cell_type": "code",
   "execution_count": 8,
   "metadata": {
    "ExecuteTime": {
     "end_time": "2020-07-24T01:05:07.784541Z",
     "start_time": "2020-07-24T01:05:07.777559Z"
    }
   },
   "outputs": [
    {
     "name": "stdout",
     "output_type": "stream",
     "text": [
      "Number of Rows: 435849\n",
      "Number of Cols: 25\n"
     ]
    }
   ],
   "source": [
    "print( 'Number of Rows: {}'.format( df1.shape[0] ) )\n",
    "print( 'Number of Cols: {}'.format( df1.shape[1] ) )\n",
    "# Evaluate the possibilite do use this project in your computer"
   ]
  },
  {
   "cell_type": "markdown",
   "metadata": {},
   "source": [
    "## 1.3 Data Types"
   ]
  },
  {
   "cell_type": "code",
   "execution_count": 9,
   "metadata": {
    "ExecuteTime": {
     "end_time": "2020-07-24T01:05:07.797506Z",
     "start_time": "2020-07-24T01:05:07.787532Z"
    }
   },
   "outputs": [
    {
     "data": {
      "text/plain": [
       "id                int64\n",
       "url              object\n",
       "region           object\n",
       "region_url       object\n",
       "price             int64\n",
       "year            float64\n",
       "manufacturer     object\n",
       "model            object\n",
       "condition        object\n",
       "cylinders        object\n",
       "fuel             object\n",
       "odometer        float64\n",
       "title_status     object\n",
       "transmission     object\n",
       "vin              object\n",
       "drive            object\n",
       "size             object\n",
       "type             object\n",
       "paint_color      object\n",
       "image_url        object\n",
       "description      object\n",
       "county          float64\n",
       "state            object\n",
       "lat             float64\n",
       "long            float64\n",
       "dtype: object"
      ]
     },
     "execution_count": 9,
     "metadata": {},
     "output_type": "execute_result"
    }
   ],
   "source": [
    "df1.dtypes\n",
    "# At first, the types of the variables are corrected."
   ]
  },
  {
   "cell_type": "markdown",
   "metadata": {},
   "source": [
    "## 1.4. Check NA"
   ]
  },
  {
   "cell_type": "code",
   "execution_count": 10,
   "metadata": {
    "ExecuteTime": {
     "end_time": "2020-07-24T01:05:08.269243Z",
     "start_time": "2020-07-24T01:05:07.799501Z"
    }
   },
   "outputs": [
    {
     "data": {
      "text/plain": [
       "id                   0\n",
       "url                  0\n",
       "region               0\n",
       "region_url           0\n",
       "price                0\n",
       "year              1117\n",
       "manufacturer     20747\n",
       "model             6199\n",
       "condition       186806\n",
       "cylinders       166384\n",
       "fuel              2991\n",
       "odometer         75148\n",
       "title_status      1806\n",
       "transmission      2146\n",
       "vin             196652\n",
       "drive           122011\n",
       "size            295961\n",
       "type            117108\n",
       "paint_color     135247\n",
       "image_url           24\n",
       "description         27\n",
       "county          435849\n",
       "state                0\n",
       "lat               8235\n",
       "long              8235\n",
       "dtype: int64"
      ]
     },
     "execution_count": 10,
     "metadata": {},
     "output_type": "execute_result"
    }
   ],
   "source": [
    "df1.isna().sum()"
   ]
  },
  {
   "cell_type": "markdown",
   "metadata": {},
   "source": [
    "## 1.5 Fillout NA"
   ]
  },
  {
   "cell_type": "code",
   "execution_count": 11,
   "metadata": {
    "ExecuteTime": {
     "end_time": "2020-07-24T01:06:00.275041Z",
     "start_time": "2020-07-24T01:05:08.271238Z"
    }
   },
   "outputs": [],
   "source": [
    "# --> year\n",
    "\n",
    "# The first variable that has an empty value and that I will deal with is the \"year\".\n",
    "# Looking at the other variables to be able to see if I can extract some info that helps to fill in the \"nan\" values, I find that the \"description\" column has the info year inside it.\n",
    "# The problem is that there are also \"nan\" values in the \"description\" column. The positive info is that there are only 27 empty values in the \"description\" column.\n",
    "# I only looked at the observations where \"description\" is empty and found that, of the 27 empty values, 3 already have the \"year\" column filled in and the rest have almost no value filled in the other columns.\n",
    "# My solution is as follows: fill the column \"year\" with the information contained in the column \"description\" not empty and drop the entire line in the 24 observations where the column \"description\" is empty along with several others, as we will not have enough info.\n",
    "# First of all, I will drop the rows where the columns \"year\" and \"description\" are null.\n",
    "df1.dropna(subset=['year', 'description'], how='all', inplace=True)\n",
    "df1['year'] = df1.apply( lambda x: x['description'][:5] if math.isnan( x['year'] ) else x['year'], axis=1 )\n",
    "# After fill the nan values in \"year\" column, there are some values that aren't year values, such as: '92 to', '03 je', 'Auto' and 'Nice'. I will transform these values by hand.\n",
    "df1['year'] = df1.apply( lambda x: 1992 if x['year']=='92 to' else x['year'], axis=1 ) # We can see easily that the year is \"1992\"\n",
    "df1['year'] = df1.apply( lambda x: 2003 if x['year']=='03 je' else x['year'], axis=1 ) # We can see easily that the year is \"2003\"\n",
    "df1.drop(df1.loc[df1['year']=='Auto '].index, inplace=True) # In the description columns don't have any info about the year; so, we will drop the entire row.\n",
    "df1.drop(df1.loc[df1['year']=='Nice '].index, inplace=True) # In the description columns don't have any info about the year; so, we will drop the entire row.\n",
    "\n",
    "# --> manufacturer\n",
    "\n",
    "# Percebi que a coluna \"description\" e \"model\" possuem info que podem me ajudar a preencher a coluna \"manufacturer\".\n",
    "# Como para tirar a info da coluna \"description\" vai ser mais trabalhoso em um primeiro momento, eu vou tentar fazer um \"de para\" da coluna \"model\" para preencher a coluna \"manufacturer\".\n",
    "df1['model'] = df1['model'].str.lower() # First I will apply a lower function in the \"model\" column.\n",
    "# In the first cicle I will drop que rows that have 'model' and 'manufacturer' with nan values at the same time.\n",
    "df1.drop( index=df1[df1['manufacturer'].isna() & df1['model'].isna()].index, inplace=True )\n",
    "# Now I will create a dictionary with the model and its respective manufacturer.\n",
    "df11 = df1[df1['manufacturer'].notna()]\n",
    "df12 = df11[df11['model'].notna()]\n",
    "model_manufacturer = {}\n",
    "for k, v in df12[['model', 'manufacturer']].values:\n",
    "    model_manufacturer[k] = v\n",
    "df1['manufacturer'] = df1.apply( lambda x: model_manufacturer[x['model']] if x['model'] in model_manufacturer.keys() else x['manufacturer'], axis=1) # reduce the \"nan\" values to 17848, but not resolved.\n",
    "\n",
    "# All the \"county\" column have null value. I will drop this column.\n",
    "df1.drop( df1['county'], axis=1, inplace=True )"
   ]
  },
  {
   "cell_type": "code",
   "execution_count": 12,
   "metadata": {
    "ExecuteTime": {
     "end_time": "2020-07-24T01:08:44.581440Z",
     "start_time": "2020-07-24T01:08:44.287228Z"
    }
   },
   "outputs": [
    {
     "data": {
      "text/plain": [
       "id                   0\n",
       "url                  0\n",
       "region               0\n",
       "region_url           0\n",
       "price                0\n",
       "year                 0\n",
       "manufacturer     17815\n",
       "model             6141\n",
       "condition       186756\n",
       "cylinders       166334\n",
       "fuel              2967\n",
       "odometer         75116\n",
       "title_status      1782\n",
       "transmission      2122\n",
       "vin             196617\n",
       "drive           121961\n",
       "size            295934\n",
       "type            117058\n",
       "paint_color     135209\n",
       "image_url            0\n",
       "description          3\n",
       "county          435790\n",
       "state                0\n",
       "lat               8211\n",
       "long              8211\n",
       "dtype: int64"
      ]
     },
     "execution_count": 12,
     "metadata": {},
     "output_type": "execute_result"
    }
   ],
   "source": [
    "df1.isna().sum()"
   ]
  },
  {
   "cell_type": "code",
   "execution_count": 19,
   "metadata": {
    "ExecuteTime": {
     "end_time": "2020-07-24T01:17:21.270840Z",
     "start_time": "2020-07-24T01:17:21.177583Z"
    }
   },
   "outputs": [
    {
     "data": {
      "text/html": [
       "<div>\n",
       "<style scoped>\n",
       "    .dataframe tbody tr th:only-of-type {\n",
       "        vertical-align: middle;\n",
       "    }\n",
       "\n",
       "    .dataframe tbody tr th {\n",
       "        vertical-align: top;\n",
       "    }\n",
       "\n",
       "    .dataframe thead th {\n",
       "        text-align: right;\n",
       "    }\n",
       "</style>\n",
       "<table border=\"1\" class=\"dataframe\">\n",
       "  <thead>\n",
       "    <tr style=\"text-align: right;\">\n",
       "      <th></th>\n",
       "      <th>year</th>\n",
       "      <th>condition</th>\n",
       "      <th>description</th>\n",
       "    </tr>\n",
       "  </thead>\n",
       "  <tbody>\n",
       "    <tr>\n",
       "      <th>379743</th>\n",
       "      <td>1972</td>\n",
       "      <td>NaN</td>\n",
       "      <td>Used ford c-4 transmission work great has ever...</td>\n",
       "    </tr>\n",
       "    <tr>\n",
       "      <th>115064</th>\n",
       "      <td>2009</td>\n",
       "      <td>NaN</td>\n",
       "      <td>-SUV Interior and Interior are in Very Good Co...</td>\n",
       "    </tr>\n",
       "    <tr>\n",
       "      <th>404478</th>\n",
       "      <td>2016</td>\n",
       "      <td>NaN</td>\n",
       "      <td>2016 Ford F-150 XLT -- $24,482 Call Or TEXT Us...</td>\n",
       "    </tr>\n",
       "    <tr>\n",
       "      <th>247121</th>\n",
       "      <td>2006</td>\n",
       "      <td>NaN</td>\n",
       "      <td>2006 Toyota Highlander Automatic transmission ...</td>\n",
       "    </tr>\n",
       "    <tr>\n",
       "      <th>282574</th>\n",
       "      <td>2006</td>\n",
       "      <td>excellent</td>\n",
       "      <td>2006 Chevrolet *Silverado* *3500* *WT*41,680 m...</td>\n",
       "    </tr>\n",
       "    <tr>\n",
       "      <th>376768</th>\n",
       "      <td>2019</td>\n",
       "      <td>NaN</td>\n",
       "      <td>2019 CHEVROLET IMPALA LT     Offered by: Fast ...</td>\n",
       "    </tr>\n",
       "    <tr>\n",
       "      <th>428506</th>\n",
       "      <td>2006</td>\n",
       "      <td>NaN</td>\n",
       "      <td>Call 985-626-1948 or 504-453-7844  Cars-Trucks...</td>\n",
       "    </tr>\n",
       "    <tr>\n",
       "      <th>313132</th>\n",
       "      <td>2014</td>\n",
       "      <td>NaN</td>\n",
       "      <td>💥 FREE DELIVERY RIGHT TO YOUR FRONT DOOR / EAS...</td>\n",
       "    </tr>\n",
       "    <tr>\n",
       "      <th>293530</th>\n",
       "      <td>2019</td>\n",
       "      <td>NaN</td>\n",
       "      <td>Elite Motor Cars of MiamiAsk for: Sales Team C...</td>\n",
       "    </tr>\n",
       "    <tr>\n",
       "      <th>412212</th>\n",
       "      <td>2013</td>\n",
       "      <td>NaN</td>\n",
       "      <td>DKR IncAsk for: Paul or Randy☎ (817) 239-73531...</td>\n",
       "    </tr>\n",
       "  </tbody>\n",
       "</table>\n",
       "</div>"
      ],
      "text/plain": [
       "        year  condition                                        description\n",
       "379743  1972        NaN  Used ford c-4 transmission work great has ever...\n",
       "115064  2009        NaN  -SUV Interior and Interior are in Very Good Co...\n",
       "404478  2016        NaN  2016 Ford F-150 XLT -- $24,482 Call Or TEXT Us...\n",
       "247121  2006        NaN  2006 Toyota Highlander Automatic transmission ...\n",
       "282574  2006  excellent  2006 Chevrolet *Silverado* *3500* *WT*41,680 m...\n",
       "376768  2019        NaN  2019 CHEVROLET IMPALA LT     Offered by: Fast ...\n",
       "428506  2006        NaN  Call 985-626-1948 or 504-453-7844  Cars-Trucks...\n",
       "313132  2014        NaN  💥 FREE DELIVERY RIGHT TO YOUR FRONT DOOR / EAS...\n",
       "293530  2019        NaN  Elite Motor Cars of MiamiAsk for: Sales Team C...\n",
       "412212  2013        NaN  DKR IncAsk for: Paul or Randy☎ (817) 239-73531..."
      ]
     },
     "execution_count": 19,
     "metadata": {},
     "output_type": "execute_result"
    }
   ],
   "source": [
    "df1[['year', 'condition', 'description']].sample(10)"
   ]
  },
  {
   "cell_type": "code",
   "execution_count": 85,
   "metadata": {
    "ExecuteTime": {
     "end_time": "2020-07-24T02:18:34.335030Z",
     "start_time": "2020-07-24T02:18:34.315083Z"
    }
   },
   "outputs": [],
   "source": [
    "df1['condition'] = df1['condition'].replace( 'like new', 'new' )"
   ]
  },
  {
   "cell_type": "code",
   "execution_count": 86,
   "metadata": {
    "ExecuteTime": {
     "end_time": "2020-07-24T02:18:36.440463Z",
     "start_time": "2020-07-24T02:18:36.410544Z"
    }
   },
   "outputs": [
    {
     "data": {
      "text/plain": [
       "excellent    118442\n",
       "good          93983\n",
       "new           28947\n",
       "fair           6971\n",
       "salvage         700\n",
       "Name: condition, dtype: int64"
      ]
     },
     "execution_count": 86,
     "metadata": {},
     "output_type": "execute_result"
    }
   ],
   "source": [
    "df1['condition'].value_counts()"
   ]
  },
  {
   "cell_type": "code",
   "execution_count": null,
   "metadata": {
    "ExecuteTime": {
     "start_time": "2020-07-24T02:18:39.645Z"
    }
   },
   "outputs": [],
   "source": [
    "df1['condition'] = df1['condition'].str.lower()\n",
    "df1['description'] = df1['description'].str.lower()"
   ]
  },
  {
   "cell_type": "code",
   "execution_count": 72,
   "metadata": {
    "ExecuteTime": {
     "end_time": "2020-07-24T02:13:20.450566Z",
     "start_time": "2020-07-24T02:12:55.782746Z"
    }
   },
   "outputs": [],
   "source": [
    "df1['condition'] = df1.apply( lambda x: x['condition'] if pd.isna( x['description'] ) else 'excellent' if 'excellent' in x['description'].split() else 'good' if 'good' in x['description'].split() else 'fair' if 'fair' in x['description'].split() else 'new' if 'new' in x['description'].split() else 'salvage' if 'salvage' in x['description'].split() else str(x['condition']), axis=1 )"
   ]
  },
  {
   "cell_type": "code",
   "execution_count": 71,
   "metadata": {
    "ExecuteTime": {
     "end_time": "2020-07-24T02:12:55.781748Z",
     "start_time": "2020-07-24T02:12:30.286842Z"
    }
   },
   "outputs": [],
   "source": [
    "df1['manufacturer'] = df1.apply( lambda x: x['manufacturer'] if pd.isna( x['description'] ) else 'jeep' if 'jeep' in str(x['description']) else 'gmc' if 'gmc' in str(x['description']) else 'ram' if 'ram' in str(x['description']) else 'dodge' if 'dodge' in str(x['description']) else 'mercedes-benz' if 'mercedes-benz' in str(x['description']) else str(x['manufacturer']), axis=1 )"
   ]
  },
  {
   "cell_type": "code",
   "execution_count": 77,
   "metadata": {
    "ExecuteTime": {
     "end_time": "2020-07-24T02:15:03.855879Z",
     "start_time": "2020-07-24T02:15:03.814988Z"
    },
    "scrolled": true
   },
   "outputs": [
    {
     "data": {
      "text/plain": [
       "good         151715\n",
       "excellent    102535\n",
       "new           94674\n",
       "nan           72747\n",
       "fair          11541\n",
       "salvage        2578\n",
       "Name: condition, dtype: int64"
      ]
     },
     "execution_count": 77,
     "metadata": {},
     "output_type": "execute_result"
    }
   ],
   "source": [
    "df1['condition'].value_counts()"
   ]
  },
  {
   "cell_type": "code",
   "execution_count": 76,
   "metadata": {
    "ExecuteTime": {
     "end_time": "2020-07-24T02:14:57.115103Z",
     "start_time": "2020-07-24T02:14:57.092166Z"
    }
   },
   "outputs": [
    {
     "data": {
      "text/plain": [
       "0"
      ]
     },
     "execution_count": 76,
     "metadata": {},
     "output_type": "execute_result"
    }
   ],
   "source": [
    "df1['condition'].isna().sum()"
   ]
  },
  {
   "cell_type": "code",
   "execution_count": null,
   "metadata": {},
   "outputs": [],
   "source": [
    "df1['manufacturer'].isna().sum()"
   ]
  }
 ],
 "metadata": {
  "kernelspec": {
   "display_name": "Python 3",
   "language": "python",
   "name": "python3"
  },
  "language_info": {
   "codemirror_mode": {
    "name": "ipython",
    "version": 3
   },
   "file_extension": ".py",
   "mimetype": "text/x-python",
   "name": "python",
   "nbconvert_exporter": "python",
   "pygments_lexer": "ipython3",
   "version": "3.7.7"
  }
 },
 "nbformat": 4,
 "nbformat_minor": 2
}
