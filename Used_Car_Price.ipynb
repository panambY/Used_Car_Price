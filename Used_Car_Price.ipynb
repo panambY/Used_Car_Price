{
  "nbformat": 4,
  "nbformat_minor": 0,
  "metadata": {
    "kernelspec": {
      "display_name": "Python 3",
      "language": "python",
      "name": "python3"
    },
    "language_info": {
      "codemirror_mode": {
        "name": "ipython",
        "version": 3
      },
      "file_extension": ".py",
      "mimetype": "text/x-python",
      "name": "python",
      "nbconvert_exporter": "python",
      "pygments_lexer": "ipython3",
      "version": "3.7.7"
    },
    "colab": {
      "name": "Used_Car_Price.ipynb",
      "provenance": [],
      "toc_visible": true
    }
  },
  "cells": [
    {
      "cell_type": "markdown",
      "metadata": {
        "id": "cKA-5UdfrEOd",
        "colab_type": "text"
      },
      "source": [
        "# 0.0 IMPORT"
      ]
    },
    {
      "cell_type": "code",
      "metadata": {
        "ExecuteTime": {
          "end_time": "2020-07-29T00:12:45.758765Z",
          "start_time": "2020-07-29T00:12:45.741771Z"
        },
        "id": "fOmNui81rEOe",
        "colab_type": "code",
        "colab": {
          "base_uri": "https://localhost:8080/",
          "height": 51
        },
        "outputId": "b2677dee-260c-45d7-912b-235d91563168"
      },
      "source": [
        "import pandas as pd\n",
        "import numpy as np\n",
        "import matplotlib.pyplot as plt\n",
        "import seaborn as sns\n",
        "\n",
        "from IPython.core.display  import HTML\n",
        "from IPython.display       import Image"
      ],
      "execution_count": 1,
      "outputs": [
        {
          "output_type": "stream",
          "text": [
            "/usr/local/lib/python3.6/dist-packages/statsmodels/tools/_testing.py:19: FutureWarning: pandas.util.testing is deprecated. Use the functions in the public API at pandas.testing instead.\n",
            "  import pandas.util.testing as tm\n"
          ],
          "name": "stderr"
        }
      ]
    },
    {
      "cell_type": "markdown",
      "metadata": {
        "heading_collapsed": true,
        "id": "8IEJXJAtrEOh",
        "colab_type": "text"
      },
      "source": [
        "## 0.1 Helper Function"
      ]
    },
    {
      "cell_type": "code",
      "metadata": {
        "ExecuteTime": {
          "end_time": "2020-07-28T00:18:47.256682Z",
          "start_time": "2020-07-28T00:18:47.246676Z"
        },
        "hidden": true,
        "id": "ccLlLdIMrEOi",
        "colab_type": "code",
        "colab": {}
      },
      "source": [
        "def jupyter_settings():\n",
        "    %matplotlib inline\n",
        "    %pylab inline\n",
        "    \n",
        "    plt.style.use( 'bmh' )\n",
        "    plt.rcParams['figure.figsize'] = [25, 12]\n",
        "    plt.rcParams['font.size'] = 24\n",
        "    \n",
        "    display( HTML( '<style>.container { width:100% !important; }</style>') )\n",
        "    pd.options.display.max_columns = None\n",
        "    pd.options.display.max_rows = None\n",
        "    pd.set_option( 'display.expand_frame_repr', False )\n",
        "    \n",
        "    sns.set()"
      ],
      "execution_count": 2,
      "outputs": []
    },
    {
      "cell_type": "code",
      "metadata": {
        "ExecuteTime": {
          "end_time": "2020-07-28T00:18:47.271611Z",
          "start_time": "2020-07-28T00:18:47.257646Z"
        },
        "hidden": true,
        "id": "sii7FFKurEOl",
        "colab_type": "code",
        "colab": {
          "base_uri": "https://localhost:8080/",
          "height": 34
        },
        "outputId": "81809a8d-d0a1-4b39-aa29-fb1c54db0ee3"
      },
      "source": [
        "jupyter_settings()"
      ],
      "execution_count": 3,
      "outputs": [
        {
          "output_type": "stream",
          "text": [
            "Populating the interactive namespace from numpy and matplotlib\n"
          ],
          "name": "stdout"
        },
        {
          "output_type": "display_data",
          "data": {
            "text/html": [
              "<style>.container { width:100% !important; }</style>"
            ],
            "text/plain": [
              "<IPython.core.display.HTML object>"
            ]
          },
          "metadata": {
            "tags": []
          }
        }
      ]
    },
    {
      "cell_type": "markdown",
      "metadata": {
        "heading_collapsed": true,
        "id": "IuJNcPZVrEOo",
        "colab_type": "text"
      },
      "source": [
        "## 0.2 Loading Data"
      ]
    },
    {
      "cell_type": "code",
      "metadata": {
        "ExecuteTime": {
          "end_time": "2020-07-28T00:19:05.508912Z",
          "start_time": "2020-07-28T00:18:47.272606Z"
        },
        "hidden": true,
        "id": "cgWXpMaVrEOo",
        "colab_type": "code",
        "colab": {}
      },
      "source": [
        "# Whats is low_memory?\n",
        "df_raw = pd.read_csv('https://media.githubusercontent.com/media/panambY/Used_Car_Price/master/data/vehicles.csv', low_memory=False, error_bad_lines=False)"
      ],
      "execution_count": 8,
      "outputs": []
    },
    {
      "cell_type": "code",
      "metadata": {
        "ExecuteTime": {
          "end_time": "2020-07-28T00:19:05.537467Z",
          "start_time": "2020-07-28T00:19:05.509875Z"
        },
        "hidden": true,
        "id": "-vlvDFH9rEOr",
        "colab_type": "code",
        "colab": {
          "base_uri": "https://localhost:8080/",
          "height": 185
        },
        "outputId": "7751755a-93ee-4c54-f220-65fed4354f8b"
      },
      "source": [
        "df_raw.sample()"
      ],
      "execution_count": 9,
      "outputs": [
        {
          "output_type": "execute_result",
          "data": {
            "text/html": [
              "<div>\n",
              "<style scoped>\n",
              "    .dataframe tbody tr th:only-of-type {\n",
              "        vertical-align: middle;\n",
              "    }\n",
              "\n",
              "    .dataframe tbody tr th {\n",
              "        vertical-align: top;\n",
              "    }\n",
              "\n",
              "    .dataframe thead th {\n",
              "        text-align: right;\n",
              "    }\n",
              "</style>\n",
              "<table border=\"1\" class=\"dataframe\">\n",
              "  <thead>\n",
              "    <tr style=\"text-align: right;\">\n",
              "      <th></th>\n",
              "      <th>id</th>\n",
              "      <th>url</th>\n",
              "      <th>region</th>\n",
              "      <th>region_url</th>\n",
              "      <th>price</th>\n",
              "      <th>year</th>\n",
              "      <th>manufacturer</th>\n",
              "      <th>model</th>\n",
              "      <th>condition</th>\n",
              "      <th>cylinders</th>\n",
              "      <th>fuel</th>\n",
              "      <th>odometer</th>\n",
              "      <th>title_status</th>\n",
              "      <th>transmission</th>\n",
              "      <th>vin</th>\n",
              "      <th>drive</th>\n",
              "      <th>size</th>\n",
              "      <th>type</th>\n",
              "      <th>paint_color</th>\n",
              "      <th>image_url</th>\n",
              "      <th>description</th>\n",
              "      <th>county</th>\n",
              "      <th>state</th>\n",
              "      <th>lat</th>\n",
              "      <th>long</th>\n",
              "    </tr>\n",
              "  </thead>\n",
              "  <tbody>\n",
              "    <tr>\n",
              "      <th>330944</th>\n",
              "      <td>7115356693</td>\n",
              "      <td>https://anchorage.craigslist.org/ctd/d/anchora...</td>\n",
              "      <td>anchorage / mat-su</td>\n",
              "      <td>https://anchorage.craigslist.org</td>\n",
              "      <td>36890</td>\n",
              "      <td>2019.0</td>\n",
              "      <td>toyota</td>\n",
              "      <td>4-runner</td>\n",
              "      <td>NaN</td>\n",
              "      <td>NaN</td>\n",
              "      <td>gas</td>\n",
              "      <td>15300.0</td>\n",
              "      <td>clean</td>\n",
              "      <td>automatic</td>\n",
              "      <td>JTEBU5JR8K5675636</td>\n",
              "      <td>4wd</td>\n",
              "      <td>NaN</td>\n",
              "      <td>wagon</td>\n",
              "      <td>red</td>\n",
              "      <td>https://images.craigslist.org/01414_aRpFlGDKvy...</td>\n",
              "      <td>2019 Toyota 4Runner TRD Off Road Premium 4x4 4...</td>\n",
              "      <td>NaN</td>\n",
              "      <td>ak</td>\n",
              "      <td>61.1867</td>\n",
              "      <td>-149.915</td>\n",
              "    </tr>\n",
              "  </tbody>\n",
              "</table>\n",
              "</div>"
            ],
            "text/plain": [
              "                id                                                url              region                        region_url  price    year manufacturer     model condition cylinders fuel  odometer title_status transmission                vin drive size   type paint_color                                          image_url                                        description  county state      lat     long\n",
              "330944  7115356693  https://anchorage.craigslist.org/ctd/d/anchora...  anchorage / mat-su  https://anchorage.craigslist.org  36890  2019.0       toyota  4-runner       NaN       NaN  gas   15300.0        clean    automatic  JTEBU5JR8K5675636   4wd  NaN  wagon         red  https://images.craigslist.org/01414_aRpFlGDKvy...  2019 Toyota 4Runner TRD Off Road Premium 4x4 4...     NaN    ak  61.1867 -149.915"
            ]
          },
          "metadata": {
            "tags": []
          },
          "execution_count": 9
        }
      ]
    },
    {
      "cell_type": "markdown",
      "metadata": {
        "heading_collapsed": true,
        "id": "wsJZBRv6rEOu",
        "colab_type": "text"
      },
      "source": [
        "# 1.0 STEP 01 - DESCRIPTION OF DATA"
      ]
    },
    {
      "cell_type": "code",
      "metadata": {
        "ExecuteTime": {
          "end_time": "2020-07-28T00:19:05.590290Z",
          "start_time": "2020-07-28T00:19:05.538429Z"
        },
        "hidden": true,
        "id": "5z1xN4jsrEOu",
        "colab_type": "code",
        "colab": {}
      },
      "source": [
        "df1 = df_raw.copy()"
      ],
      "execution_count": 10,
      "outputs": []
    },
    {
      "cell_type": "markdown",
      "metadata": {
        "heading_collapsed": true,
        "hidden": true,
        "id": "O5Azu1rsrEOx",
        "colab_type": "text"
      },
      "source": [
        "## 1.1 Rename Columns"
      ]
    },
    {
      "cell_type": "code",
      "metadata": {
        "ExecuteTime": {
          "end_time": "2020-07-28T00:19:05.595280Z",
          "start_time": "2020-07-28T00:19:05.591288Z"
        },
        "hidden": true,
        "id": "DIb1JhxSrEOx",
        "colab_type": "code",
        "colab": {
          "base_uri": "https://localhost:8080/",
          "height": 102
        },
        "outputId": "4254efc5-3b64-4db5-e8d2-fe76e55510b0"
      },
      "source": [
        "df1.columns\n",
        "\n",
        "# The columns already have a label that I want and easy to understand."
      ],
      "execution_count": 11,
      "outputs": [
        {
          "output_type": "execute_result",
          "data": {
            "text/plain": [
              "Index(['id', 'url', 'region', 'region_url', 'price', 'year', 'manufacturer',\n",
              "       'model', 'condition', 'cylinders', 'fuel', 'odometer', 'title_status',\n",
              "       'transmission', 'vin', 'drive', 'size', 'type', 'paint_color',\n",
              "       'image_url', 'description', 'county', 'state', 'lat', 'long'],\n",
              "      dtype='object')"
            ]
          },
          "metadata": {
            "tags": []
          },
          "execution_count": 11
        }
      ]
    },
    {
      "cell_type": "markdown",
      "metadata": {
        "heading_collapsed": true,
        "hidden": true,
        "id": "MJLNnQJorEO0",
        "colab_type": "text"
      },
      "source": [
        "## 1.2 Data Dimensions"
      ]
    },
    {
      "cell_type": "code",
      "metadata": {
        "ExecuteTime": {
          "end_time": "2020-07-28T00:19:05.603257Z",
          "start_time": "2020-07-28T00:19:05.596277Z"
        },
        "hidden": true,
        "id": "9tjVk2SbrEO0",
        "colab_type": "code",
        "colab": {
          "base_uri": "https://localhost:8080/",
          "height": 51
        },
        "outputId": "0cd9cdf9-0948-451e-a161-71f4d05049cd"
      },
      "source": [
        "print( 'Number of Rows: {}'.format( df1.shape[0] ) )\n",
        "print( 'Number of Cols: {}'.format( df1.shape[1] ) )\n",
        "# Evaluate the possibilite do use this project in your computer"
      ],
      "execution_count": 12,
      "outputs": [
        {
          "output_type": "stream",
          "text": [
            "Number of Rows: 435849\n",
            "Number of Cols: 25\n"
          ],
          "name": "stdout"
        }
      ]
    },
    {
      "cell_type": "markdown",
      "metadata": {
        "heading_collapsed": true,
        "hidden": true,
        "id": "CCrqlnJjrEO3",
        "colab_type": "text"
      },
      "source": [
        "## 1.3 Data Types"
      ]
    },
    {
      "cell_type": "code",
      "metadata": {
        "ExecuteTime": {
          "end_time": "2020-07-28T00:19:05.616221Z",
          "start_time": "2020-07-28T00:19:05.604255Z"
        },
        "hidden": true,
        "id": "Nid6hN3GrEO3",
        "colab_type": "code",
        "colab": {
          "base_uri": "https://localhost:8080/",
          "height": 459
        },
        "outputId": "f2307b1b-0401-4bd0-be7d-d547e92a0d65"
      },
      "source": [
        "df1.dtypes\n",
        "# At first, the types of the variables are corrected."
      ],
      "execution_count": 13,
      "outputs": [
        {
          "output_type": "execute_result",
          "data": {
            "text/plain": [
              "id                int64\n",
              "url              object\n",
              "region           object\n",
              "region_url       object\n",
              "price             int64\n",
              "year            float64\n",
              "manufacturer     object\n",
              "model            object\n",
              "condition        object\n",
              "cylinders        object\n",
              "fuel             object\n",
              "odometer        float64\n",
              "title_status     object\n",
              "transmission     object\n",
              "vin              object\n",
              "drive            object\n",
              "size             object\n",
              "type             object\n",
              "paint_color      object\n",
              "image_url        object\n",
              "description      object\n",
              "county          float64\n",
              "state            object\n",
              "lat             float64\n",
              "long            float64\n",
              "dtype: object"
            ]
          },
          "metadata": {
            "tags": []
          },
          "execution_count": 13
        }
      ]
    },
    {
      "cell_type": "markdown",
      "metadata": {
        "heading_collapsed": true,
        "hidden": true,
        "id": "eaZxeMjCrEO7",
        "colab_type": "text"
      },
      "source": [
        "## 1.4. Check NA"
      ]
    },
    {
      "cell_type": "code",
      "metadata": {
        "ExecuteTime": {
          "end_time": "2020-07-28T00:19:05.896005Z",
          "start_time": "2020-07-28T00:19:05.617219Z"
        },
        "hidden": true,
        "id": "I43SBcM5rEO7",
        "colab_type": "code",
        "colab": {
          "base_uri": "https://localhost:8080/",
          "height": 459
        },
        "outputId": "dc6a9dc4-3cde-4b2a-d30a-12334dbcab6a"
      },
      "source": [
        "df1.isna().sum()"
      ],
      "execution_count": 14,
      "outputs": [
        {
          "output_type": "execute_result",
          "data": {
            "text/plain": [
              "id                   0\n",
              "url                  0\n",
              "region               0\n",
              "region_url           0\n",
              "price                0\n",
              "year              1117\n",
              "manufacturer     20747\n",
              "model             6199\n",
              "condition       186806\n",
              "cylinders       166384\n",
              "fuel              2991\n",
              "odometer         75148\n",
              "title_status      1806\n",
              "transmission      2146\n",
              "vin             196652\n",
              "drive           122011\n",
              "size            295961\n",
              "type            117108\n",
              "paint_color     135247\n",
              "image_url           24\n",
              "description         27\n",
              "county          435849\n",
              "state                0\n",
              "lat               8235\n",
              "long              8235\n",
              "dtype: int64"
            ]
          },
          "metadata": {
            "tags": []
          },
          "execution_count": 14
        }
      ]
    },
    {
      "cell_type": "markdown",
      "metadata": {
        "heading_collapsed": true,
        "hidden": true,
        "id": "eSP5_-DXrEO-",
        "colab_type": "text"
      },
      "source": [
        "## 1.5 Fillout NA"
      ]
    },
    {
      "cell_type": "code",
      "metadata": {
        "ExecuteTime": {
          "end_time": "2020-07-28T00:24:48.367049Z",
          "start_time": "2020-07-28T00:19:05.896965Z"
        },
        "hidden": true,
        "id": "UKeDyG4arEO_",
        "colab_type": "code",
        "colab": {}
      },
      "source": [
        "# --> year\n",
        "\n",
        "# The first variable that has an empty value and that I will deal with is the \"year\".\n",
        "# Looking at the other variables to be able to see if I can extract some info that helps to fill in the \"nan\" values, I find that the \"description\" column has the info year inside it.\n",
        "# The problem is that there are also \"nan\" values in the \"description\" column. The positive info is that there are only 27 empty values in the \"description\" column.\n",
        "# I only looked at the observations where \"description\" is empty and found that, of the 27 empty values, 3 already have the \"year\" column filled in and the rest have almost no value filled in the other columns.\n",
        "# My solution is as follows: fill the column \"year\" with the information contained in the column \"description\" not empty and drop the entire line in the 24 observations where the column \"description\" is empty along with several others, as we will not have enough info.\n",
        "# First of all, I will drop the rows where the columns \"year\" and \"description\" are null.\n",
        "df1.dropna(subset=['year', 'description'], how='all', inplace=True)\n",
        "df1['year'] = df1.apply( lambda x: x['description'][:5] if math.isnan( x['year'] ) else x['year'], axis=1 )\n",
        "# After fill the nan values in \"year\" column, there are some values that aren't year values, such as: '92 to', '03 je', 'Auto' and 'Nice'. I will transform these values by hand.\n",
        "df1['year'] = df1.apply( lambda x: 1992 if x['year']=='92 to' else x['year'], axis=1 ) # We can see easily that the year is \"1992\"\n",
        "df1['year'] = df1.apply( lambda x: 2003 if x['year']=='03 je' else x['year'], axis=1 ) # We can see easily that the year is \"2003\"\n",
        "df1.drop(df1.loc[df1['year']=='Auto '].index, inplace=True) # In the description columns don't have any info about the year; so, we will drop the entire row.\n",
        "df1.drop(df1.loc[df1['year']=='Nice '].index, inplace=True) # In the description columns don't have any info about the year; so, we will drop the entire row.\n",
        "\n",
        "# --> manufacturer\n",
        "\n",
        "# I noticed that the \"description\" and \"model\" columns have info that can help me fill in the \"manufacturer\" column.\n",
        "# How to get the info from the \"description\" column will be more work at first, I'll try to do a \"to\" from the \"model\" column to fill in the \"manufacturer\" column.\n",
        "df1['model'] = df1['model'].str.lower() # First I will apply a lower function in the \"model\" column.\n",
        "# In the first cicle I will drop que rows that have 'model' and 'manufacturer' with nan values at the same time.\n",
        "df1.drop( index=df1[df1['manufacturer'].isna() & df1['model'].isna()].index, inplace=True )\n",
        "# Now I will create a dictionary with the model and its respective manufacturer.\n",
        "df11 = df1[df1['manufacturer'].notna()]\n",
        "df12 = df11[df11['model'].notna()]\n",
        "manufacturer_dict = {}\n",
        "for k, v in df12[['model', 'manufacturer']].values:\n",
        "    manufacturer_dict[k] = v\n",
        "df1['manufacturer'] = df1.apply( lambda x: manufacturer_dict[x['model']] if x['model'] in manufacturer_dict.keys() else x['manufacturer'], axis=1) # reduce the \"nan\" values to 17848, but not resolved.\n",
        "# The second attempt to decrease or end \"nan\" values will be to take the list of manufacturers and check if they are present in the \"description\" column.\n",
        "df1['description'] = df1['description'].str.lower()\n",
        "df1['manufacturer'] = df1.apply( lambda x: x['manufacturer'] if pd.isna( x['description'] ) or pd.notna( x['manufacturer'] )\n",
        "                                else 'ford' if 'ford' in str(x['description']).split() \n",
        "                                else 'chevrolet' if 'chevrolet' in str(x['description']).split() \n",
        "                                else 'toyota' if 'toyota' in str(x['description']).split() \n",
        "                                else 'nissan' if 'nissan' in str(x['description']).split() \n",
        "                                else 'honda' if 'honda' in str(x['description']).split()\n",
        "                                else 'jeep' if 'jeep' in str(x['description']).split() \n",
        "                                else 'gmc' if 'gmc' in str(x['description']).split() \n",
        "                                else 'ram' if 'ram' in str(x['description']).split() \n",
        "                                else 'dodge' if 'dodge' in str(x['description']).split() \n",
        "                                else 'mercedes-benz' if 'mercedes-benz' in str(x['description']).split() \n",
        "                                else 'bmw' if 'bmw' in str(x['description']).split() \n",
        "                                else 'hyundau' if 'hyundai' in str(x['description']).split() \n",
        "                                else 'subaru' if 'subaru' in str(x['description']).split() \n",
        "                                else 'volkswagen' if 'volkswagen' in str(x['description']).split() \n",
        "                                else 'kia' if 'kia' in str(x['description']).split()\n",
        "                                else 'chrysler' if 'chrysler' in str(x['description']).split() \n",
        "                                else 'cadillac' if 'cadillac' in str(x['description']).split() \n",
        "                                else 'lexus' if 'lexus' in str(x['description']).split() \n",
        "                                else 'buick' if 'buick' in str(x['description']).split() \n",
        "                                else 'mazda' if 'mazda' in str(x['description']).split()\n",
        "                                else 'audi' if 'audi' in str(x['description']).split() \n",
        "                                else 'acura' if 'acura' in str(x['description']).split() \n",
        "                                else 'infiniti' if 'infiniti' in str(x['description']).split() \n",
        "                                else 'lincoln' if 'lincoln' in str(x['description']).split() \n",
        "                                else 'pontiac' if 'pontiac' in str(x['description']).split()\n",
        "                                else 'volvo' if 'volvo' in str(x['description']).split() \n",
        "                                else 'mitsubishi' if 'mitsubishi' in str(x['description']).split() \n",
        "                                else 'mini' if 'mini' in str(x['description']).split() \n",
        "                                else 'rover' if 'rover' in str(x['description']).split() \n",
        "                                else 'mercury' if 'mercury' in str(x['description']).split() \n",
        "                                else 'saturn' if 'saturn' in str(x['description']).split() \n",
        "                                else 'fiat' if 'fiat' in str(x['description']).split() \n",
        "                                else 'jaguar' if 'jaguar' in str(x['description']).split() \n",
        "                                else 'tesla' if 'tesla' in str(x['description']).split() \n",
        "                                else 'harley-davidson' if 'harley-davidson' in str(x['description']).split()\n",
        "                                else 'ferrari' if 'ferrari' in str(x['description']).split() \n",
        "                                else 'alfa-romeo' if 'alfa-romeo' in str(x['description']).split() \n",
        "                                else 'datsun' if 'datsun' in str(x['description']).split() \n",
        "                                else 'aston-martin' if 'aston-martin' in str(x['description']).split() \n",
        "                                else 'porche' if 'porche' in str(x['description']).split()\n",
        "                                else 'land rover' if 'land rover' in str(x['description']).split() \n",
        "                                else 'morgan' if 'morgan' in str(x['description']).split()\n",
        "                                else x['manufacturer'], axis=1 ) # reduce the \"nan\" values to 12514, but not resolved.\n",
        "# The third and last attempt I will see the values in \"model\" columns and find a relationtionship between \"manufacturer\" and \"model\".\n",
        "df1['manufacturer'] = df1.apply( lambda x: x['manufacturer'] if pd.isna( x['model'] ) or pd.notna( x['manufacturer'] )\n",
        "                                else 'gmc' if 'hummer' in str(x['model']).split() \n",
        "                                else 'ford' if 'freightliner' in str(x['model']).split() \n",
        "                                else 'volkswagen' if 'porsche' in str(x['model']).split() \n",
        "                                else 'isuzu' if 'isuzu' in str(x['model']).split() \n",
        "                                else 'navistar' if 'internacional ' in str(x['model']).split() \n",
        "                                else 'gmc' if 'saab' in str(x['model']).split() \n",
        "                                else 'suzuki' if 'suzuki' in str(x['model']).split() \n",
        "                                else 'paccar' if 'peterbilt' in str(x['model']).split()\n",
        "                                else 'volkswagen' if 'jetta' in str(x['model']).split()\n",
        "                                else 'paccar' if 'kenworth' in str(x['model']).split()\n",
        "                                else 'chrysler' if 'plymouth' in str(x['model']).split()\n",
        "                                else 'gmc' if 'oldsmobile' in str(x['model']).split()\n",
        "                                else 'volkswagen' if 'bentley' in str(x['model']).split()\n",
        "                                else 'toyota' if 'hino' in str(x['model']).split()\n",
        "                                else 'gmc' if 'janesville' in str(x['model']).split()\n",
        "                                else 'bmw' if 'triumph' in str(x['model']).split()\n",
        "                                else 'chrysler' if 'maserati' in str(x['model']).split()\n",
        "                                else 'volkswagen' if 'lamborghini' in str(x['model']).split()\n",
        "                                else 'chevrolet' if 'corvette' in str(x['model']).split()\n",
        "                                else 'gmc' if 'caddilac' in str(x['model']).split()\n",
        "                                else 'chevrolet' if 'cheverolet' in str(x['model']).split()\n",
        "                                else 'hyundau' if 'hyunday' in str(x['model']).split()\n",
        "                                else 'hyundau' if 'hyundai' in str(x['model']).split()\n",
        "                                else 'chevrolet' if 'chevorlet' in str(x['model']).split()\n",
        "                                else 'volkswagen' if 'volkswagon' in str(x['model']).split()\n",
        "                                else x['manufacturer'], axis=1 ) # reduce the \"nan\" values to 6068, but not resolved. Thats enought for the first cicle. From the second cycle I can treat data better.\n",
        "# In the rest of the values in \"manufacturer\" column I will input a 'unknown' value.\n",
        "df1['manufacturer'].fillna( 'unknown', inplace=True )\n",
        "\n",
        "# --> condition\n",
        "\n",
        "# Check if you have a model with the \"condition\" filled in that can help us complete the \"nan\" values that have the same model.\n",
        "df11 = df1[df1['condition'].notna()]\n",
        "df12 = df11[df11['model'].notna()]\n",
        "condition_dict = {}\n",
        "for k, v in df12[['model', 'condition']].values:\n",
        "    condition_dict[k] = v\n",
        "df1['condition'] = df1.apply( lambda x: x['condition'] if pd.isna( x['model'] ) or pd.notna( x['condition'] ) else condition_dict[x['model']] if x['model'] in condition_dict.keys() else x['condition'], axis=1)# 28615 \"nan\" values left.\n",
        "# as it can cause confusion between the \"like new\" and \"new\" values I will not try to fill in the \"nan\" values using the ifo's in the \"description\" variable.\n",
        "# For the remaining \"nan\" values, enter the \"unknown\" value.\n",
        "df1['condition'].fillna( 'unknown', inplace=True )\n",
        "\n",
        "# --> cylinders\n",
        "\n",
        "# Check if you have a model with the \"cylinders\" filled in that can help us complete the \"nan\" values that have the same model.\n",
        "df11 = df1[df1['cylinders'].notna()]\n",
        "df12 = df11[df11['model'].notna()]\n",
        "cylinders_dict = {}\n",
        "for k, v in df12[['model', 'cylinders']].values:\n",
        "    cylinders_dict[k] = v\n",
        "df1['cylinders'] = df1.apply( lambda x: x['cylinders'] if pd.isna( x['model'] ) or pd.notna( x['cylinders'] ) else cylinders_dict[x['model']] if x['model'] in cylinders_dict.keys() else x['cylinders'], axis=1)# 29022 \"nan\" values remain.\n",
        "# Since the values inside the \"cylinders\" variable have space between them, they can cause errors in filling in the \"nan\" values using the \"split\" function.\n",
        "# For the remaining \"nan\" values, enter the \"unknown\" value.\n",
        "df1['cylinders'].fillna( 'unknown', inplace=True )\n",
        "\n",
        "# --> fuel\n",
        "\n",
        "# As it can happen that the same car model has several possibilities for \"fuel\" I will not use the search formula in the \"model\" variable.\n",
        "# Check and there is a \"fuel\" value within the \"description\" variable. In order not to cause an error in filling in the \"nan\" values, I will not use the \"other\" value.\n",
        "df1['fuel'] = df1.apply( lambda x: x['fuel'] if pd.isna( x['description'] ) or pd.notna( x['fuel'] )\n",
        "                                else 'gas' if 'gas' in str(x['description']).split() \n",
        "                                else 'diesel' if 'diesel' in str(x['description']).split() \n",
        "                                else 'hybrid' if 'hybrid' in str(x['description']).split() \n",
        "                                else 'electric' if 'electric' in str(x['description']).split()\n",
        "                                else x['fuel'], axis=1 ) # 2152 \"nan\" values left.\n",
        "# For the remaining \"nan\" values, enter the \"unknown\" value.\n",
        "df1['fuel'].fillna( 'unknown', inplace=True )\n",
        "\n",
        "# --> odometer\n",
        "\n",
        "# Trying to stipulate the value as close to reality as possible, I will fill in the \"nan\" values by separating this variable by the \"year\" column and calculating the median to try to prevent the value from being affected by possible outliers.\n",
        "df1['odometer'] = df1['odometer'].fillna(df1.groupby('year')['odometer'].transform('median'))\n",
        "# Since there are only 40 empty values left, I will drop all 40 lines that have \"nan\" values in the \"odometer\" column.\n",
        "df1.drop(df1[df1['odometer'].isna()].index, inplace=True)\n",
        "\n",
        "# --> title_status\n",
        "\n",
        "# Since the values of this variable are difficult to identify effectively through queries to other columns and the total \"nan\" values are low, I will directly fill in the \"nan\" values with \"unknown\".\n",
        "df1['title_status'].fillna( 'unknow', inplace=True )\n",
        "\n",
        "# --> transmission\n",
        "\n",
        "# As it can happen that the same car model has several transmission possibilities, I will not use the search formula in the variable \"model\".\n",
        "# Check and there is the value of \"transmission\" inside the variable \"description\". In order not to cause an error in filling in the \"nan\" values, I will not use the \"other\" value.\n",
        "df1['transmission'] = df1.apply( lambda x: x['transmission'] if pd.isna( x['description'] ) or pd.notna( x['transmission'] )\n",
        "                                else 'automatic' if 'automatic' in str(x['description']).split() \n",
        "                                else 'manual' if 'manual' in str(x['description']).split()\n",
        "                                else x['transmission'], axis=1 ) # 1812 \"nan\" values remain.\n",
        "# For the remaining \"nan\" values, enter the \"unknown\" value.\n",
        "df1['transmission'].fillna( 'unknow', inplace=True )\n",
        "\n",
        "# --> drive\n",
        "\n",
        "# Check if you have a model with the \"drive\" filled in that can help us complete the \"nan\" values that have the same model.\n",
        "df11 = df1[df1['drive'].notna()]\n",
        "df12 = df11[df11['model'].notna()]\n",
        "drive_dict = {}\n",
        "for k, v in df12[['model', 'drive']].values:\n",
        "    drive_dict[k] = v\n",
        "df1['size'] = df1.apply( lambda x: x['drive'] if pd.isna( x['model'] ) or pd.notna( x['drive'] ) else drive_dict[x['model']] if x['model'] in drive_dict.keys() else x['drive'], axis=1)# 18125 \"nan\" values remain.\n",
        "# Check and there is a \"drive\" value inside the \"description\" variable.\n",
        "df1['drive'] = df1.apply( lambda x: x['drive'] if pd.isna( x['description'] ) or pd.notna( x['drive'] )\n",
        "                                else '4wd' if '4wd' in str(x['description']).split() \n",
        "                                else 'fwd' if 'fwd' in str(x['description']).split() \n",
        "                                else 'rwd' if 'rwd' in str(x['description']).split() \n",
        "                                else x['drive'], axis=1 ) # did not fill in any \"nan\" values.\n",
        "# For the remaining \"nan\" values, enter the \"unknown\" value.\n",
        "df1['drive'].fillna( 'unknow', inplace=True )\n",
        "\n",
        "# --> size\n",
        "\n",
        "# Check if you have a model with the \"size\" filled in that can help us complete the \"nan\" values that have the same model.\n",
        "df11 = df1[df1['size'].notna()]\n",
        "df12 = df11[df11['model'].notna()]\n",
        "size_dict = {}\n",
        "for k, v in df12[['model', 'size']].values:\n",
        "    size_dict[k] = v\n",
        "df1['size'] = df1.apply( lambda x: x['size'] if pd.isna( x['model'] ) or pd.notna( x['size'] ) else size_dict[x['model']] if x['model'] in size_dict.keys() else x['size'], axis=1)\n",
        "# Check and there is a \"size\" value inside the \"description\" variable.\n",
        "df1['size'] = df1.apply( lambda x: x['size'] if pd.isna( x['description'] ) or pd.notna( x['size'] )\n",
        "                                else 'full-size' if 'full-size' in str(x['description']).split() \n",
        "                                else 'mid-size' if 'mid-size' in str(x['description']).split() \n",
        "                                else 'compact' if 'compact' in str(x['description']).split() \n",
        "                                else 'sub-compact' if 'sub-compact' in str(x['description']).split() \n",
        "                                else x['size'], axis=1 )\n",
        "# For the remaining \"nan\" values, enter the \"unknown\" value.\n",
        "df1['size'].fillna( 'unknow', inplace=True )\n",
        "\n",
        "# --> type\n",
        "\n",
        "# Check if you have a model with the \"type\" filled in that can help us complete the \"nan\" values that have the same model.\n",
        "df11 = df1[df1['type'].notna()]\n",
        "df12 = df11[df11['model'].notna()]\n",
        "type_dict = {}\n",
        "for k, v in df12[['model', 'type']].values:\n",
        "    type_dict[k] = v\n",
        "df1['type'] = df1.apply( lambda x: x['type'] if pd.isna( x['model'] ) or pd.notna( x['type'] ) else type_dict[x['model']] if x['model'] in type_dict.keys() else x['type'], axis=1)# 17472 \"nan\" values remain.\n",
        "# Check and there is the value of \"type\" inside the variable \"description\".\n",
        "df1['type'] = df1.apply( lambda x: x['type'] if pd.isna( x['description'] ) or pd.notna( x['type'] )\n",
        "                                else 'SUV' if 'SUV' in str(x['description']).split() \n",
        "                                else 'sedan' if 'sedan' in str(x['description']).split() \n",
        "                                else 'pickup' if 'pickup' in str(x['description']).split() \n",
        "                                else 'truck' if 'truck' in str(x['description']).split() \n",
        "                                else 'coupe' if 'coupe ' in str(x['description']).split() \n",
        "                                else 'hatchback' if 'hatchback' in str(x['description']).split() \n",
        "                                else 'van' if 'van' in str(x['description']).split() \n",
        "                                else 'wagon' if 'wagon' in str(x['description']).split()\n",
        "                                else 'convertible' if 'convertible' in str(x['description']).split()\n",
        "                                else 'mini-van' if 'mini-van' in str(x['description']).split()\n",
        "                                else 'offroad' if 'offroad' in str(x['description']).split()\n",
        "                                else 'bus' if 'bus' in str(x['description']).split()\n",
        "                                else x['type'], axis=1 )# 10685 \"nan\" values left.\n",
        "# For the remaining \"nan\" values, enter the \"unknown\" value.\n",
        "df1['type'].fillna( 'unknow', inplace=True )\n",
        "\n",
        "# --> paint-color\n",
        "\n",
        "# As it can happen that the same car model has several possibilities of \"paint-color\" I will not use the search formula in the variable \"model\".\n",
        "# Check and there is the value of \"paint-color\" inside the variable \"description\".\n",
        "df1['paint_color'] = df1.apply( lambda x: x['paint_color'] if pd.isna( x['description'] ) or pd.notna( x['paint_color'] )\n",
        "                                else 'white' if 'white' in str(x['description']).split() \n",
        "                                else 'black' if 'black' in str(x['description']).split() \n",
        "                                else 'silver' if 'silver' in str(x['description']).split() \n",
        "                                else 'blue' if 'blue' in str(x['description']).split() \n",
        "                                else 'grey' if 'grey ' in str(x['description']).split() \n",
        "                                else 'red' if 'red' in str(x['description']).split() \n",
        "                                else 'green' if 'green' in str(x['description']).split() \n",
        "                                else 'custom' if 'custom' in str(x['description']).split()\n",
        "                                else 'brown' if 'brown' in str(x['description']).split()\n",
        "                                else 'yellow' if 'yellow' in str(x['description']).split()\n",
        "                                else 'orange' if 'orange' in str(x['description']).split()\n",
        "                                else 'purple' if 'purple' in str(x['description']).split()\n",
        "                                else x['paint_color'], axis=1 ) # 89241 \"nan\" values left.\n",
        "# For the remaining \"nan\" values, enter the \"unknown\" value.\n",
        "df1['paint_color'].fillna( 'unknow', inplace=True )\n",
        "\n",
        "# --> lat and long\n",
        "\n",
        "# Since \"lat\" and \"long\" are directly related to \"region\" I will separate them by \"region\" and average \"lat\" and \"long\".\n",
        "# Here, unlike what was done in the \"odometer\" variable, there is no need to use the median because the variation in this case will be very small.\n",
        "df1['lat'] = df1['lat'].fillna(df1.groupby('region')['lat'].transform('mean'))\n",
        "df1['long'] = df1['long'].fillna(df1.groupby('region')['long'].transform('mean')) # no missing values left.\n",
        "\n",
        "# --> id\n",
        "\n",
        "# This variable is not relevant to the project. So I will not deal with your \"nan\" values and I will drop this column.\n",
        "df1.drop( ['id'], axis=1, inplace=True )\n",
        "\n",
        "# --> url\n",
        "\n",
        "# This variable is not relevant to the project. So I will not deal with your \"nan\" values and I will drop this column.\n",
        "df1.drop( ['url'], axis=1, inplace=True )\n",
        "\n",
        "# --> region_url\n",
        "\n",
        "# This variable is not relevant to the project. So I will not deal with your \"nan\" values and I will drop this column.\n",
        "df1.drop( ['region_url'], axis=1, inplace=True )\n",
        "\n",
        "# --> model\n",
        "\n",
        "# That column has a lot of polluted data and it would take months of work to try to correct it one by one. As I have a lot of variables with good potentials in this dataset I will choose to drop this column. \n",
        "# If the model does not perform well in the end, in the next cycles I will study the possibility of treating this column better.\n",
        "# I think it is worse for the project to delete only the nan rows, but keeping the column, than to delete the entire column and not decrease the number of observations in our dataset.\n",
        "df1.drop( ['model'], axis=1, inplace=True )\n",
        "\n",
        "# --> vin\n",
        "\n",
        "# This variable is not relevant to the project. So I will not deal with your \"nan\" values and I will drop this column.\n",
        "df1.drop( ['vin'], axis=1, inplace=True )\n",
        "\n",
        "# --> image_url\n",
        "\n",
        "# This variable is not relevant to the project. So I will not deal with your \"nan\" values and I will drop this column.\n",
        "df1.drop( ['image_url'], axis=1, inplace=True )\n",
        "\n",
        "# --> description\n",
        "\n",
        "# This variable is not relevant to the project, but it was extremely important in helping to fill in the \"nan\" values in other columns. So I will not deal with your \"nan\" values and I will drop this column.\n",
        "df1.drop( ['description'], axis=1, inplace=True )\n",
        "\n",
        "# --> county\n",
        "\n",
        "# All the \"county\" column have null value. I will drop this column.\n",
        "df1.drop( ['county'], axis=1, inplace=True )"
      ],
      "execution_count": 15,
      "outputs": []
    },
    {
      "cell_type": "code",
      "metadata": {
        "ExecuteTime": {
          "end_time": "2020-07-28T00:27:01.202154Z",
          "start_time": "2020-07-28T00:27:01.036030Z"
        },
        "hidden": true,
        "id": "tFHTxNvUrEPB",
        "colab_type": "code",
        "colab": {
          "base_uri": "https://localhost:8080/",
          "height": 323
        },
        "outputId": "f845ea2a-ff22-40f3-fd08-853caec508d8"
      },
      "source": [
        "df1.isna().sum()"
      ],
      "execution_count": 16,
      "outputs": [
        {
          "output_type": "execute_result",
          "data": {
            "text/plain": [
              "region          0\n",
              "price           0\n",
              "year            0\n",
              "manufacturer    0\n",
              "condition       0\n",
              "cylinders       0\n",
              "fuel            0\n",
              "odometer        0\n",
              "title_status    0\n",
              "transmission    0\n",
              "drive           0\n",
              "size            0\n",
              "type            0\n",
              "paint_color     0\n",
              "state           0\n",
              "lat             0\n",
              "long            0\n",
              "dtype: int64"
            ]
          },
          "metadata": {
            "tags": []
          },
          "execution_count": 16
        }
      ]
    },
    {
      "cell_type": "markdown",
      "metadata": {
        "heading_collapsed": true,
        "hidden": true,
        "id": "LRbddmmLrEPD",
        "colab_type": "text"
      },
      "source": [
        "## 1.6 Change Types"
      ]
    },
    {
      "cell_type": "code",
      "metadata": {
        "ExecuteTime": {
          "end_time": "2020-07-28T00:28:35.787798Z",
          "start_time": "2020-07-28T00:28:35.777824Z"
        },
        "hidden": true,
        "id": "ja42Ng53rEPE",
        "colab_type": "code",
        "colab": {
          "base_uri": "https://localhost:8080/",
          "height": 323
        },
        "outputId": "b9b09d8f-c075-4310-b55f-f3286c41e851"
      },
      "source": [
        "# Check if, after the treatment of the \"nan\" values, there was any problem of data types.\n",
        "df1.dtypes"
      ],
      "execution_count": 17,
      "outputs": [
        {
          "output_type": "execute_result",
          "data": {
            "text/plain": [
              "region           object\n",
              "price             int64\n",
              "year             object\n",
              "manufacturer     object\n",
              "condition        object\n",
              "cylinders        object\n",
              "fuel             object\n",
              "odometer        float64\n",
              "title_status     object\n",
              "transmission     object\n",
              "drive            object\n",
              "size             object\n",
              "type             object\n",
              "paint_color      object\n",
              "state            object\n",
              "lat             float64\n",
              "long            float64\n",
              "dtype: object"
            ]
          },
          "metadata": {
            "tags": []
          },
          "execution_count": 17
        }
      ]
    },
    {
      "cell_type": "code",
      "metadata": {
        "ExecuteTime": {
          "end_time": "2020-07-28T00:38:59.087646Z",
          "start_time": "2020-07-28T00:38:59.070691Z"
        },
        "hidden": true,
        "id": "jPF0_BfcrEPG",
        "colab_type": "code",
        "colab": {}
      },
      "source": [
        "# year\n",
        "df1['year'] = df1['year'].astype( 'int64' )"
      ],
      "execution_count": 18,
      "outputs": []
    },
    {
      "cell_type": "code",
      "metadata": {
        "ExecuteTime": {
          "end_time": "2020-07-28T00:39:00.190737Z",
          "start_time": "2020-07-28T00:39:00.176775Z"
        },
        "hidden": true,
        "id": "conzcRXBrEPI",
        "colab_type": "code",
        "colab": {
          "base_uri": "https://localhost:8080/",
          "height": 323
        },
        "outputId": "e6736a43-ed70-46e8-e88a-9ec4b738ddc7"
      },
      "source": [
        "# That's all correct!\n",
        "df1.dtypes"
      ],
      "execution_count": 19,
      "outputs": [
        {
          "output_type": "execute_result",
          "data": {
            "text/plain": [
              "region           object\n",
              "price             int64\n",
              "year              int64\n",
              "manufacturer     object\n",
              "condition        object\n",
              "cylinders        object\n",
              "fuel             object\n",
              "odometer        float64\n",
              "title_status     object\n",
              "transmission     object\n",
              "drive            object\n",
              "size             object\n",
              "type             object\n",
              "paint_color      object\n",
              "state            object\n",
              "lat             float64\n",
              "long            float64\n",
              "dtype: object"
            ]
          },
          "metadata": {
            "tags": []
          },
          "execution_count": 19
        }
      ]
    },
    {
      "cell_type": "markdown",
      "metadata": {
        "heading_collapsed": true,
        "hidden": true,
        "id": "wvrXHJ6brEPK",
        "colab_type": "text"
      },
      "source": [
        "## 1.7 Descriptive Statistical"
      ]
    },
    {
      "cell_type": "code",
      "metadata": {
        "ExecuteTime": {
          "end_time": "2020-07-28T00:39:03.210507Z",
          "start_time": "2020-07-28T00:39:03.139509Z"
        },
        "hidden": true,
        "id": "RjyalCC0rEPL",
        "colab_type": "code",
        "colab": {}
      },
      "source": [
        "num_attributes = df1.select_dtypes( include=['int64', 'float64'] )\n",
        "cat_attributes = df1.select_dtypes( exclude=['int64', 'float64'] )"
      ],
      "execution_count": 20,
      "outputs": []
    },
    {
      "cell_type": "code",
      "metadata": {
        "ExecuteTime": {
          "end_time": "2020-07-28T00:39:04.155816Z",
          "start_time": "2020-07-28T00:39:04.127858Z"
        },
        "hidden": true,
        "scrolled": true,
        "id": "uOShCHyUrEPO",
        "colab_type": "code",
        "colab": {
          "base_uri": "https://localhost:8080/",
          "height": 80
        },
        "outputId": "ef366aec-d723-4487-95ef-64a15366081e"
      },
      "source": [
        "num_attributes.sample()"
      ],
      "execution_count": 21,
      "outputs": [
        {
          "output_type": "execute_result",
          "data": {
            "text/html": [
              "<div>\n",
              "<style scoped>\n",
              "    .dataframe tbody tr th:only-of-type {\n",
              "        vertical-align: middle;\n",
              "    }\n",
              "\n",
              "    .dataframe tbody tr th {\n",
              "        vertical-align: top;\n",
              "    }\n",
              "\n",
              "    .dataframe thead th {\n",
              "        text-align: right;\n",
              "    }\n",
              "</style>\n",
              "<table border=\"1\" class=\"dataframe\">\n",
              "  <thead>\n",
              "    <tr style=\"text-align: right;\">\n",
              "      <th></th>\n",
              "      <th>price</th>\n",
              "      <th>year</th>\n",
              "      <th>odometer</th>\n",
              "      <th>lat</th>\n",
              "      <th>long</th>\n",
              "    </tr>\n",
              "  </thead>\n",
              "  <tbody>\n",
              "    <tr>\n",
              "      <th>38049</th>\n",
              "      <td>10990</td>\n",
              "      <td>2014</td>\n",
              "      <td>53130.0</td>\n",
              "      <td>33.84</td>\n",
              "      <td>-84.38</td>\n",
              "    </tr>\n",
              "  </tbody>\n",
              "</table>\n",
              "</div>"
            ],
            "text/plain": [
              "       price  year  odometer    lat   long\n",
              "38049  10990  2014   53130.0  33.84 -84.38"
            ]
          },
          "metadata": {
            "tags": []
          },
          "execution_count": 21
        }
      ]
    },
    {
      "cell_type": "code",
      "metadata": {
        "ExecuteTime": {
          "end_time": "2020-07-28T00:39:05.362738Z",
          "start_time": "2020-07-28T00:39:05.330821Z"
        },
        "hidden": true,
        "id": "vuDM2gikrEPQ",
        "colab_type": "code",
        "colab": {
          "base_uri": "https://localhost:8080/",
          "height": 80
        },
        "outputId": "b5ed488f-e775-4c08-f16c-ded5e077798b"
      },
      "source": [
        "cat_attributes.sample()"
      ],
      "execution_count": 22,
      "outputs": [
        {
          "output_type": "execute_result",
          "data": {
            "text/html": [
              "<div>\n",
              "<style scoped>\n",
              "    .dataframe tbody tr th:only-of-type {\n",
              "        vertical-align: middle;\n",
              "    }\n",
              "\n",
              "    .dataframe tbody tr th {\n",
              "        vertical-align: top;\n",
              "    }\n",
              "\n",
              "    .dataframe thead th {\n",
              "        text-align: right;\n",
              "    }\n",
              "</style>\n",
              "<table border=\"1\" class=\"dataframe\">\n",
              "  <thead>\n",
              "    <tr style=\"text-align: right;\">\n",
              "      <th></th>\n",
              "      <th>region</th>\n",
              "      <th>manufacturer</th>\n",
              "      <th>condition</th>\n",
              "      <th>cylinders</th>\n",
              "      <th>fuel</th>\n",
              "      <th>title_status</th>\n",
              "      <th>transmission</th>\n",
              "      <th>drive</th>\n",
              "      <th>size</th>\n",
              "      <th>type</th>\n",
              "      <th>paint_color</th>\n",
              "      <th>state</th>\n",
              "    </tr>\n",
              "  </thead>\n",
              "  <tbody>\n",
              "    <tr>\n",
              "      <th>146650</th>\n",
              "      <td>vermont</td>\n",
              "      <td>jeep</td>\n",
              "      <td>excellent</td>\n",
              "      <td>6 cylinders</td>\n",
              "      <td>gas</td>\n",
              "      <td>clean</td>\n",
              "      <td>automatic</td>\n",
              "      <td>unknow</td>\n",
              "      <td>4wd</td>\n",
              "      <td>SUV</td>\n",
              "      <td>unknow</td>\n",
              "      <td>vt</td>\n",
              "    </tr>\n",
              "  </tbody>\n",
              "</table>\n",
              "</div>"
            ],
            "text/plain": [
              "         region manufacturer  condition    cylinders fuel title_status transmission   drive size type paint_color state\n",
              "146650  vermont         jeep  excellent  6 cylinders  gas        clean    automatic  unknow  4wd  SUV      unknow    vt"
            ]
          },
          "metadata": {
            "tags": []
          },
          "execution_count": 22
        }
      ]
    },
    {
      "cell_type": "markdown",
      "metadata": {
        "heading_collapsed": true,
        "hidden": true,
        "id": "XWtwImPLrEPS",
        "colab_type": "text"
      },
      "source": [
        "### 1.7.1 Numerical Attributes"
      ]
    },
    {
      "cell_type": "code",
      "metadata": {
        "ExecuteTime": {
          "end_time": "2020-07-28T00:39:08.131625Z",
          "start_time": "2020-07-28T00:39:07.521765Z"
        },
        "hidden": true,
        "id": "70i9si5OrEPT",
        "colab_type": "code",
        "colab": {}
      },
      "source": [
        "# Central Tendency - mean, median\n",
        "ct1 = pd.DataFrame( num_attributes.apply( np.mean ) ).T\n",
        "ct2 = pd.DataFrame( num_attributes.apply( np.median ) ).T\n",
        "\n",
        "# Dispersion - std, min, max, range, skew, kurtosis\n",
        "d1 = pd.DataFrame( num_attributes.apply( np.std ) ).T\n",
        "d2 = pd.DataFrame( num_attributes.apply( min ) ).T\n",
        "d3 = pd.DataFrame( num_attributes.apply( max ) ).T\n",
        "d4 = pd.DataFrame( num_attributes.apply( lambda x: x.max() - x.min() ) ).T\n",
        "d5 = pd.DataFrame( num_attributes.apply( lambda x: x.skew() ) ).T\n",
        "d6 = pd.DataFrame( num_attributes.apply( lambda x: x.kurtosis() ) ).T\n",
        "\n",
        "# concatenate\n",
        "m = pd.concat( [d2, d3, d4, ct1, ct2, d1, d5, d6] ).T.reset_index()\n",
        "m.columns = ( ['attributes', 'min', 'max', 'range', 'mean', 'median', 'std', 'skew', 'kurtosis'])"
      ],
      "execution_count": 23,
      "outputs": []
    },
    {
      "cell_type": "code",
      "metadata": {
        "ExecuteTime": {
          "end_time": "2020-07-28T00:39:08.852447Z",
          "start_time": "2020-07-28T00:39:08.831535Z"
        },
        "hidden": true,
        "id": "1ZRqvtLrrEPV",
        "colab_type": "code",
        "colab": {
          "base_uri": "https://localhost:8080/",
          "height": 204
        },
        "outputId": "5ff36263-e353-403f-9f98-922daeba283d"
      },
      "source": [
        "m"
      ],
      "execution_count": 24,
      "outputs": [
        {
          "output_type": "execute_result",
          "data": {
            "text/html": [
              "<div>\n",
              "<style scoped>\n",
              "    .dataframe tbody tr th:only-of-type {\n",
              "        vertical-align: middle;\n",
              "    }\n",
              "\n",
              "    .dataframe tbody tr th {\n",
              "        vertical-align: top;\n",
              "    }\n",
              "\n",
              "    .dataframe thead th {\n",
              "        text-align: right;\n",
              "    }\n",
              "</style>\n",
              "<table border=\"1\" class=\"dataframe\">\n",
              "  <thead>\n",
              "    <tr style=\"text-align: right;\">\n",
              "      <th></th>\n",
              "      <th>attributes</th>\n",
              "      <th>min</th>\n",
              "      <th>max</th>\n",
              "      <th>range</th>\n",
              "      <th>mean</th>\n",
              "      <th>median</th>\n",
              "      <th>std</th>\n",
              "      <th>skew</th>\n",
              "      <th>kurtosis</th>\n",
              "    </tr>\n",
              "  </thead>\n",
              "  <tbody>\n",
              "    <tr>\n",
              "      <th>0</th>\n",
              "      <td>price</td>\n",
              "      <td>0.0000</td>\n",
              "      <td>3.647257e+09</td>\n",
              "      <td>3.647257e+09</td>\n",
              "      <td>134933.370712</td>\n",
              "      <td>9995.0000</td>\n",
              "      <td>1.690999e+07</td>\n",
              "      <td>158.461034</td>\n",
              "      <td>26817.493962</td>\n",
              "    </tr>\n",
              "    <tr>\n",
              "      <th>1</th>\n",
              "      <td>year</td>\n",
              "      <td>1900.0000</td>\n",
              "      <td>2.021000e+03</td>\n",
              "      <td>1.210000e+02</td>\n",
              "      <td>2009.891472</td>\n",
              "      <td>2012.0000</td>\n",
              "      <td>9.297403e+00</td>\n",
              "      <td>-3.571246</td>\n",
              "      <td>19.998197</td>\n",
              "    </tr>\n",
              "    <tr>\n",
              "      <th>2</th>\n",
              "      <td>odometer</td>\n",
              "      <td>0.0000</td>\n",
              "      <td>1.000000e+07</td>\n",
              "      <td>1.000000e+07</td>\n",
              "      <td>100359.163605</td>\n",
              "      <td>95075.0000</td>\n",
              "      <td>1.057850e+05</td>\n",
              "      <td>43.668401</td>\n",
              "      <td>3584.123534</td>\n",
              "    </tr>\n",
              "    <tr>\n",
              "      <th>3</th>\n",
              "      <td>lat</td>\n",
              "      <td>-83.1971</td>\n",
              "      <td>7.960190e+01</td>\n",
              "      <td>1.627990e+02</td>\n",
              "      <td>38.384713</td>\n",
              "      <td>38.8840</td>\n",
              "      <td>6.002674e+00</td>\n",
              "      <td>-0.371858</td>\n",
              "      <td>7.649340</td>\n",
              "    </tr>\n",
              "    <tr>\n",
              "      <th>4</th>\n",
              "      <td>long</td>\n",
              "      <td>-177.0120</td>\n",
              "      <td>1.736750e+02</td>\n",
              "      <td>3.506870e+02</td>\n",
              "      <td>-94.772707</td>\n",
              "      <td>-89.2975</td>\n",
              "      <td>1.799597e+01</td>\n",
              "      <td>-0.703751</td>\n",
              "      <td>1.196016</td>\n",
              "    </tr>\n",
              "  </tbody>\n",
              "</table>\n",
              "</div>"
            ],
            "text/plain": [
              "  attributes        min           max         range           mean      median           std        skew      kurtosis\n",
              "0      price     0.0000  3.647257e+09  3.647257e+09  134933.370712   9995.0000  1.690999e+07  158.461034  26817.493962\n",
              "1       year  1900.0000  2.021000e+03  1.210000e+02    2009.891472   2012.0000  9.297403e+00   -3.571246     19.998197\n",
              "2   odometer     0.0000  1.000000e+07  1.000000e+07  100359.163605  95075.0000  1.057850e+05   43.668401   3584.123534\n",
              "3        lat   -83.1971  7.960190e+01  1.627990e+02      38.384713     38.8840  6.002674e+00   -0.371858      7.649340\n",
              "4       long  -177.0120  1.736750e+02  3.506870e+02     -94.772707    -89.2975  1.799597e+01   -0.703751      1.196016"
            ]
          },
          "metadata": {
            "tags": []
          },
          "execution_count": 24
        }
      ]
    },
    {
      "cell_type": "code",
      "metadata": {
        "ExecuteTime": {
          "end_time": "2020-07-28T00:39:11.652049Z",
          "start_time": "2020-07-28T00:39:09.583782Z"
        },
        "hidden": true,
        "id": "JTy1lzK3rEPX",
        "colab_type": "code",
        "colab": {
          "base_uri": "https://localhost:8080/",
          "height": 748
        },
        "outputId": "8bc7a761-fce6-4c3f-96af-989769dea98d"
      },
      "source": [
        "sns.distplot( df1['price'] )\n",
        "# Observing the distribution of the target variable, we can already see the presence of outliers. This problem will be addressed later."
      ],
      "execution_count": 25,
      "outputs": [
        {
          "output_type": "execute_result",
          "data": {
            "text/plain": [
              "<matplotlib.axes._subplots.AxesSubplot at 0x7fc1270279b0>"
            ]
          },
          "metadata": {
            "tags": []
          },
          "execution_count": 25
        },
        {
          "output_type": "display_data",
          "data": {
            "image/png": "[encoded data removed]",
            "text/plain": [
              "<Figure size 1800x864 with 1 Axes>"
            ]
          },
          "metadata": {
            "tags": []
          }
        }
      ]
    },
    {
      "cell_type": "markdown",
      "metadata": {
        "heading_collapsed": true,
        "hidden": true,
        "id": "UFH4oVVbrEPZ",
        "colab_type": "text"
      },
      "source": [
        "### 1.7.2. Categorical Attributes"
      ]
    },
    {
      "cell_type": "code",
      "metadata": {
        "ExecuteTime": {
          "end_time": "2020-07-28T00:40:28.474696Z",
          "start_time": "2020-07-28T00:40:28.273702Z"
        },
        "hidden": true,
        "id": "qaudcHwKrEPZ",
        "colab_type": "code",
        "colab": {
          "base_uri": "https://localhost:8080/",
          "height": 238
        },
        "outputId": "b07e7a14-8ece-448d-edd6-bc8ada35b370"
      },
      "source": [
        "cat_attributes.apply( lambda x: x.unique().shape[0] )"
      ],
      "execution_count": 26,
      "outputs": [
        {
          "output_type": "execute_result",
          "data": {
            "text/plain": [
              "region          403\n",
              "manufacturer     47\n",
              "condition         7\n",
              "cylinders         9\n",
              "fuel              6\n",
              "title_status      7\n",
              "transmission      4\n",
              "drive             4\n",
              "size              8\n",
              "type             14\n",
              "paint_color      13\n",
              "state            51\n",
              "dtype: int64"
            ]
          },
          "metadata": {
            "tags": []
          },
          "execution_count": 26
        }
      ]
    },
    {
      "cell_type": "code",
      "metadata": {
        "ExecuteTime": {
          "end_time": "2020-07-28T00:53:54.418058Z",
          "start_time": "2020-07-28T00:52:53.031409Z"
        },
        "hidden": true,
        "id": "B0_f6ZcxrEPb",
        "colab_type": "code",
        "colab": {
          "base_uri": "https://localhost:8080/",
          "height": 748
        },
        "outputId": "61b4f8b9-6d33-4b8d-a4f1-98bbee7f29b9"
      },
      "source": [
        "aux1 = df1[ df1['price'] > 0 ]\n",
        "\n",
        "\n",
        "plt.subplot(4, 3, 1)\n",
        "sns.boxplot( x= 'region', y='price' , data=aux1 )\n",
        "\n",
        "plt.subplot(4, 3, 2)\n",
        "sns.boxplot( x= 'manufacturer', y='price' , data=aux1 )\n",
        "\n",
        "plt.subplot(4, 3, 3)\n",
        "sns.boxplot( x= 'condition', y='price' , data=aux1 )\n",
        "\n",
        "plt.subplot(4, 3, 4)\n",
        "sns.boxplot( x= 'cylinders', y='price' , data=aux1 )\n",
        "\n",
        "plt.subplot(4, 3, 5)\n",
        "sns.boxplot( x= 'fuel', y='price' , data=aux1 )\n",
        "\n",
        "plt.subplot(4, 3, 6)\n",
        "sns.boxplot( x= 'title_status', y='price' , data=aux1 )\n",
        "\n",
        "plt.subplot(4, 3, 7)\n",
        "sns.boxplot( x= 'transmission', y='price' , data=aux1 )\n",
        "\n",
        "plt.subplot(4, 3, 8)\n",
        "sns.boxplot( x= 'drive', y='price' , data=aux1 )\n",
        "\n",
        "plt.subplot(4, 3, 9)\n",
        "sns.boxplot( x= 'size', y='price' , data=aux1 )\n",
        "\n",
        "plt.subplot(4, 3, 10)\n",
        "sns.boxplot( x= 'type', y='price' , data=aux1 )\n",
        "\n",
        "plt.subplot(4, 3, 11)\n",
        "sns.boxplot( x= 'paint_color', y='price' , data=aux1 )\n",
        "\n",
        "plt.subplot(4, 3, 12)\n",
        "sns.boxplot( x= 'state', y='price' , data=aux1 )\n",
        "\n",
        "# The same thing observed in the numerical data can be found in the ategorical data as well: The strong presence of outliers in the dataset. \n",
        "# It is even difficult to visualize the distribution of categorical variables."
      ],
      "execution_count": 27,
      "outputs": [
        {
          "output_type": "execute_result",
          "data": {
            "text/plain": [
              "<matplotlib.axes._subplots.AxesSubplot at 0x7fc1206f83c8>"
            ]
          },
          "metadata": {
            "tags": []
          },
          "execution_count": 27
        },
        {
          "output_type": "display_data",
          "data": {
            "image/png": "[encoded data removed]",
            "text/plain": [
              "<Figure size 1800x864 with 12 Axes>"
            ]
          },
          "metadata": {
            "tags": []
          }
        }
      ]
    },
    {
      "cell_type": "markdown",
      "metadata": {
        "id": "rRvgalRnrEPe",
        "colab_type": "text"
      },
      "source": [
        "# 2.0 STEP 02 - FEATURE ENGINEERING"
      ]
    },
    {
      "cell_type": "code",
      "metadata": {
        "ExecuteTime": {
          "end_time": "2020-07-28T01:01:08.653090Z",
          "start_time": "2020-07-28T01:01:08.622143Z"
        },
        "id": "vpVSK6cxrEPf",
        "colab_type": "code",
        "colab": {}
      },
      "source": [
        "df2 = df1.copy()"
      ],
      "execution_count": 28,
      "outputs": []
    },
    {
      "cell_type": "code",
      "metadata": {
        "ExecuteTime": {
          "end_time": "2020-07-29T00:12:48.085218Z",
          "start_time": "2020-07-29T00:12:48.042333Z"
        },
        "id": "49QtGw87rEPh",
        "colab_type": "code",
        "colab": {
          "base_uri": "https://localhost:8080/",
          "height": 34
        },
        "outputId": "77c3eb79-d27e-449e-fa51-984a14297992"
      },
      "source": [
        "Image( \"https://github.com/panambY/Used_Car_Price/blob/master/image/Hyphoteses_Map.png\")"
      ],
      "execution_count": 29,
      "outputs": [
        {
          "output_type": "execute_result",
          "data": {
            "image/png": "\n\n\n\n\n<!DOCTYPE html>\n<html lang=\"en\">\n  <head>\n    <meta charset=\"utf-8\">\n  <link rel=\"dns-prefetch\" href=\"https://github.githubassets.com\">\n  <link rel=\"dns-prefetch\" href=\"https://avatars0.githubusercontent.com\">\n  <link rel=\"dns-prefetch\" href=\"https://avatars1.githubusercontent.com\">\n  <link rel=\"dns-prefetch\" href=\"https://avatars2.githubusercontent.com\">\n  <link rel=\"dns-prefetch\" href=\"https://avatars3.githubusercontent.com\">\n  <link rel=\"dns-prefetch\" href=\"https://github-cloud.s3.amazonaws.com\">\n  <link rel=\"dns-prefetch\" href=\"https://user-images.githubusercontent.com/\">\n\n\n\n  <link crossorigin=\"anonymous\" media=\"all\" integrity=\"sha512-YR0i2ZAJ3fFf7L2CvMny+FWH76iHZNNIcD1YX57o4cdBHev8ffMXOfzy5F/lpBJpLttwPahk3zY/8XXaRH12ew==\" rel=\"stylesheet\" href=\"https://github.githubassets.com/assets/frameworks-611d22d99009ddf15fecbd82bcc9f2f8.css\" />\n  <link crossorigin=\"anonymous\" media=\"all\" integrity=\"sha512-fCe2u2fIROPr55bT48P5R9OCi4OYOnm5P30FSdeqB3c0TqaPIe0x3d6smDmrOQ9ubiAvbWmFeXUb5rTzRhZf8w==\" rel=\"stylesheet\" href=\"https://github.githubassets.com/assets/site-7c27b6bb67c844e3ebe796d3e3c3f947.css\" />\n    <link crossorigin=\"anonymous\" media=\"all\" integrity=\"sha512-WQpDCIwNh3ihS4etXWMXxcG0IJ0g2Hw3uFb1nDZxWJCw97dFqda3zkqBOXr5tb/O5V5gAxh1nxN1fIeNJ6GzHw==\" rel=\"stylesheet\" href=\"https://github.githubassets.com/assets/github-590a43088c0d8778a14b87ad5d6317c5.css\" />\n    \n    \n    \n    \n\n\n  <meta name=\"viewport\" content=\"width=device-width\">\n  \n  <title>Used_Car_Price/Hyphoteses_Map.png at master · panambY/Used_Car_Price · GitHub</title>\n    <meta name=\"description\" content=\"Predict the car price in used vehicles listings from Craigslist.org - panambY/Used_Car_Price\">\n    <link rel=\"search\" type=\"application/opensearchdescription+xml\" href=\"/opensearch.xml\" title=\"GitHub\">\n  <link rel=\"fluid-icon\" href=\"https://github.com/fluidicon.png\" title=\"GitHub\">\n  <meta property=\"fb:app_id\" content=\"1401488693436528\">\n  <meta name=\"apple-itunes-app\" content=\"app-id=1477376905\">\n\n    <meta name=\"twitter:image:src\" content=\"https://repository-images.githubusercontent.com/279868409/5bb7a980-c683-11ea-860f-481e731caaa3\" /><meta name=\"twitter:site\" content=\"@github\" /><meta name=\"twitter:card\" content=\"summary_large_image\" /><meta name=\"twitter:title\" content=\"panambY/Used_Car_Price\" /><meta name=\"twitter:description\" content=\"Predict the car price in used vehicles listings from Craigslist.org - panambY/Used_Car_Price\" />\n    <meta property=\"og:image\" content=\"https://repository-images.githubusercontent.com/279868409/5bb7a980-c683-11ea-860f-481e731caaa3\" /><meta property=\"og:site_name\" content=\"GitHub\" /><meta property=\"og:type\" content=\"object\" /><meta property=\"og:title\" content=\"panambY/Used_Car_Price\" /><meta property=\"og:url\" content=\"https://github.com/panambY/Used_Car_Price\" /><meta property=\"og:description\" content=\"Predict the car price in used vehicles listings from Craigslist.org - panambY/Used_Car_Price\" />\n\n  <link rel=\"assets\" href=\"https://github.githubassets.com/\">\n  \n\n  <meta name=\"request-id\" content=\"97B2:39ED:687E55:C24B02:5F2383F3\" data-pjax-transient=\"true\"/><meta name=\"html-safe-nonce\" content=\"b07c601d1f68fc34c46e580e2a99c5e1aa615e4f\" data-pjax-transient=\"true\"/><meta name=\"visitor-payload\" content=\"eyJyZWZlcnJlciI6IiIsInJlcXVlc3RfaWQiOiI5N0IyOjM5RUQ6Njg3RTU1OkMyNEIwMjo1RjIzODNGMyIsInZpc2l0b3JfaWQiOiI3NzkxNDAyODE0OTUxMDk3MzMxIiwicmVnaW9uX2VkZ2UiOiJpYWQiLCJyZWdpb25fcmVuZGVyIjoiaWFkIn0=\" data-pjax-transient=\"true\"/><meta name=\"visitor-hmac\" content=\"a16bccd658541a656672f777c0ae60f96e1a63d579326139f135c56db29df3e7\" data-pjax-transient=\"true\"/>\n\n    <meta name=\"hovercard-subject-tag\" content=\"repository:279868409\" data-pjax-transient>\n\n\n  <meta name=\"github-keyboard-shortcuts\" content=\"repository,source-code\" data-pjax-transient=\"true\" />\n\n  \n\n  <meta name=\"selected-link\" value=\"repo_source\" data-pjax-transient>\n\n    <meta name=\"google-site-verification\" content=\"c1kuD-K2HIVF635lypcsWPoD4kilo5-jA_wBFyT4uMY\">\n  <meta name=\"google-site-verification\" content=\"KT5gs8h0wvaagLKAVWq8bbeNwnZZK1r1XQysX3xurLU\">\n  <meta name=\"google-site-verification\" content=\"ZzhVyEFwb7w3e0-uOTltm8Jsck2F5StVihD0exw2fsA\">\n  <meta name=\"google-site-verification\" content=\"GXs5KoUUkNCoaAZn7wPN-t01Pywp9M3sEjnt_3_ZWPc\">\n\n  <meta name=\"octolytics-host\" content=\"collector.githubapp.com\" /><meta name=\"octolytics-app-id\" content=\"github\" /><meta name=\"octolytics-event-url\" content=\"https://collector.githubapp.com/github-external/browser_event\" /><meta name=\"octolytics-dimension-ga_id\" content=\"\" class=\"js-octo-ga-id\" />\n\n  <meta name=\"analytics-location\" content=\"/&lt;user-name&gt;/&lt;repo-name&gt;/blob/show\" data-pjax-transient=\"true\" />\n\n  \n\n\n\n\n    <meta name=\"google-analytics\" content=\"UA-3769691-2\">\n\n\n<meta class=\"js-ga-set\" name=\"dimension10\" content=\"Responsive\" data-pjax-transient>\n\n<meta class=\"js-ga-set\" name=\"dimension1\" content=\"Logged Out\">\n\n\n\n  \n\n      <meta name=\"hostname\" content=\"github.com\">\n    <meta name=\"user-login\" content=\"\">\n\n\n      <meta name=\"expected-hostname\" content=\"github.com\">\n\n\n    <meta name=\"enabled-features\" content=\"MARKETPLACE_PENDING_INSTALLATIONS\">\n\n  <meta http-equiv=\"x-pjax-version\" content=\"09cfdfcc0ba267bba72b85c0824e558f\">\n  \n\n      <link href=\"https://github.com/panambY/Used_Car_Price/commits/master.atom\" rel=\"alternate\" title=\"Recent Commits to Used_Car_Price:master\" type=\"application/atom+xml\">\n\n  <meta name=\"go-import\" content=\"github.com/panambY/Used_Car_Price git https://github.com/panambY/Used_Car_Price.git\">\n\n  <meta name=\"octolytics-dimension-user_id\" content=\"44981842\" /><meta name=\"octolytics-dimension-user_login\" content=\"panambY\" /><meta name=\"octolytics-dimension-repository_id\" content=\"279868409\" /><meta name=\"octolytics-dimension-repository_nwo\" content=\"panambY/Used_Car_Price\" /><meta name=\"octolytics-dimension-repository_public\" content=\"true\" /><meta name=\"octolytics-dimension-repository_is_fork\" content=\"false\" /><meta name=\"octolytics-dimension-repository_network_root_id\" content=\"279868409\" /><meta name=\"octolytics-dimension-repository_network_root_nwo\" content=\"panambY/Used_Car_Price\" /><meta name=\"octolytics-dimension-repository_explore_github_marketplace_ci_cta_shown\" content=\"false\" />\n\n\n    <link rel=\"canonical\" href=\"https://github.com/panambY/Used_Car_Price/blob/master/image/Hyphoteses_Map.png\" data-pjax-transient>\n\n\n  <meta name=\"browser-stats-url\" content=\"https://api.github.com/_private/browser/stats\">\n\n  <meta name=\"browser-errors-url\" content=\"https://api.github.com/_private/browser/errors\">\n\n  <link rel=\"mask-icon\" href=\"https://github.githubassets.com/pinned-octocat.svg\" color=\"#000000\">\n  <link rel=\"alternate icon\" class=\"js-site-favicon\" type=\"image/png\" href=\"https://github.githubassets.com/favicons/favicon.png\">\n  <link rel=\"icon\" class=\"js-site-favicon\" type=\"image/svg+xml\" href=\"https://github.githubassets.com/favicons/favicon.svg\">\n\n<meta name=\"theme-color\" content=\"#1e2327\">\n\n\n  <link rel=\"manifest\" href=\"/manifest.json\" crossOrigin=\"use-credentials\">\n\n  </head>\n\n  <body class=\"logged-out env-production page-responsive page-blob\">\n    \n\n    <div class=\"position-relative js-header-wrapper \">\n      <a href=\"#start-of-content\" class=\"px-2 py-4 bg-blue text-white show-on-focus js-skip-to-content\">Skip to content</a>\n      <span class=\"Progress progress-pjax-loader position-fixed width-full js-pjax-loader-bar\">\n        <span class=\"progress-pjax-loader-bar top-0 left-0\" style=\"width: 0%;\"></span>\n      </span>\n\n      \n      \n\n\n\n          <header class=\"Header-old header-logged-out js-details-container Details position-relative f4 py-2\" role=\"banner\">\n  <div class=\"container-xl d-lg-flex flex-items-center p-responsive\">\n    <div class=\"d-flex flex-justify-between flex-items-center\">\n        <a class=\"mr-4\" href=\"https://github.com/\" aria-label=\"Homepage\" data-ga-click=\"(Logged out) Header, go to homepage, icon:logo-wordmark\">\n          <svg height=\"32\" class=\"octicon octicon-mark-github text-white\" viewBox=\"0 0 16 16\" version=\"1.1\" width=\"32\" aria-hidden=\"true\"><path fill-rule=\"evenodd\" d=\"M8 0C3.58 0 0 3.58 0 8c0 3.54 2.29 6.53 5.47 7.59.4.07.55-.17.55-.38 0-.19-.01-.82-.01-1.49-2.01.37-2.53-.49-2.69-.94-.09-.23-.48-.94-.82-1.13-.28-.15-.68-.52-.01-.53.63-.01 1.08.58 1.23.82.72 1.21 1.87.87 2.33.66.07-.52.28-.87.51-1.07-1.78-.2-3.64-.89-3.64-3.95 0-.87.31-1.59.82-2.15-.08-.2-.36-1.02.08-2.12 0 0 .67-.21 2.2.82.64-.18 1.32-.27 2-.27.68 0 1.36.09 2 .27 1.53-1.04 2.2-.82 2.2-.82.44 1.1.16 1.92.08 2.12.51.56.82 1.27.82 2.15 0 3.07-1.87 3.75-3.65 3.95.29.25.54.73.54 1.48 0 1.07-.01 1.93-.01 2.2 0 .21.15.46.55.38A8.013 8.013 0 0016 8c0-4.42-3.58-8-8-8z\"></path></svg>\n        </a>\n\n          <div class=\"d-lg-none css-truncate css-truncate-target width-fit p-2\">\n            \n\n          </div>\n\n        <div class=\"d-flex flex-items-center\">\n              <a href=\"/join?ref_cta=Sign+up&amp;ref_loc=header+logged+out&amp;ref_page=%2F%3Cuser-name%3E%2F%3Crepo-name%3E%2Fblob%2Fshow&amp;source=header-repo\"\n                class=\"d-inline-block d-lg-none f5 text-white no-underline border border-gray-dark rounded-2 px-2 py-1 mr-3 mr-sm-5\"\n                data-hydro-click=\"{&quot;event_type&quot;:&quot;authentication.click&quot;,&quot;payload&quot;:{&quot;location_in_page&quot;:&quot;site header&quot;,&quot;repository_id&quot;:null,&quot;auth_type&quot;:&quot;SIGN_UP&quot;,&quot;originating_url&quot;:&quot;https://github.com/panambY/Used_Car_Price/blob/master/image/Hyphoteses_Map.png&quot;,&quot;user_id&quot;:null}}\" data-hydro-click-hmac=\"4b9bb67ffe84116f43256078d86e47b9793d35b236b836ab7115ee33c151bb9c\"\n                data-ga-click=\"Sign up, click to sign up for account, ref_page:/&lt;user-name&gt;/&lt;repo-name&gt;/blob/show;ref_cta:Sign up;ref_loc:header logged out\">\n                Sign&nbsp;up\n              </a>\n\n          <button class=\"btn-link d-lg-none mt-1 js-details-target\" type=\"button\" aria-label=\"Toggle navigation\" aria-expanded=\"false\">\n            <svg height=\"24\" class=\"octicon octicon-three-bars text-white\" viewBox=\"0 0 16 16\" version=\"1.1\" width=\"24\" aria-hidden=\"true\"><path fill-rule=\"evenodd\" d=\"M1 2.75A.75.75 0 011.75 2h12.5a.75.75 0 110 1.5H1.75A.75.75 0 011 2.75zm0 5A.75.75 0 011.75 7h12.5a.75.75 0 110 1.5H1.75A.75.75 0 011 7.75zM1.75 12a.75.75 0 100 1.5h12.5a.75.75 0 100-1.5H1.75z\"></path></svg>\n          </button>\n        </div>\n    </div>\n\n    <div class=\"HeaderMenu HeaderMenu--logged-out position-fixed top-0 right-0 bottom-0 height-fit position-lg-relative d-lg-flex flex-justify-between flex-items-center flex-auto\">\n      <div class=\"d-flex d-lg-none flex-justify-end border-bottom bg-gray-light p-3\">\n        <button class=\"btn-link js-details-target\" type=\"button\" aria-label=\"Toggle navigation\" aria-expanded=\"false\">\n          <svg height=\"24\" class=\"octicon octicon-x text-gray\" viewBox=\"0 0 24 24\" version=\"1.1\" width=\"24\" aria-hidden=\"true\"><path fill-rule=\"evenodd\" d=\"M5.72 5.72a.75.75 0 011.06 0L12 10.94l5.22-5.22a.75.75 0 111.06 1.06L13.06 12l5.22 5.22a.75.75 0 11-1.06 1.06L12 13.06l-5.22 5.22a.75.75 0 01-1.06-1.06L10.94 12 5.72 6.78a.75.75 0 010-1.06z\"></path></svg>\n        </button>\n      </div>\n\n        <nav class=\"mt-0 px-3 px-lg-0 mb-5 mb-lg-0\" aria-label=\"Global\">\n          <ul class=\"d-lg-flex list-style-none\">\n              <li class=\"d-block d-lg-flex flex-lg-nowrap flex-lg-items-center border-bottom border-lg-bottom-0 mr-0 mr-lg-3 edge-item-fix position-relative flex-wrap flex-justify-between d-flex flex-items-center \">\n                <details class=\"HeaderMenu-details details-overlay details-reset width-full\">\n                  <summary class=\"HeaderMenu-summary HeaderMenu-link px-0 py-3 border-0 no-wrap d-block d-lg-inline-block\">\n                    Why GitHub?\n                    <svg x=\"0px\" y=\"0px\" viewBox=\"0 0 14 8\" xml:space=\"preserve\" fill=\"none\" class=\"icon-chevon-down-mktg position-absolute position-lg-relative\">\n                      <path d=\"M1,1l6.2,6L13,1\"></path>\n                    </svg>\n                  </summary>\n                  <div class=\"dropdown-menu flex-auto rounded-1 bg-white px-0 mt-0 pb-4 p-lg-4 position-relative position-lg-absolute left-0 left-lg-n4\">\n                    <a href=\"/features\" class=\"py-2 lh-condensed-ultra d-block link-gray-dark no-underline h5 Bump-link--hover\" data-ga-click=\"(Logged out) Header, go to Features\">Features <span class=\"Bump-link-symbol float-right text-normal text-gray-light\">&rarr;</span></a>\n                    <ul class=\"list-style-none f5 pb-3\">\n                      <li class=\"edge-item-fix\"><a href=\"/features/code-review/\" class=\"py-2 lh-condensed-ultra d-block link-gray no-underline f5\" data-ga-click=\"(Logged out) Header, go to Code review\">Code review</a></li>\n                      <li class=\"edge-item-fix\"><a href=\"/features/project-management/\" class=\"py-2 lh-condensed-ultra d-block link-gray no-underline f5\" data-ga-click=\"(Logged out) Header, go to Project management\">Project management</a></li>\n                      <li class=\"edge-item-fix\"><a href=\"/features/integrations\" class=\"py-2 lh-condensed-ultra d-block link-gray no-underline f5\" data-ga-click=\"(Logged out) Header, go to Integrations\">Integrations</a></li>\n                      <li class=\"edge-item-fix\"><a href=\"/features/actions\" class=\"py-2 lh-condensed-ultra d-block link-gray no-underline f5\" data-ga-click=\"(Logged out) Header, go to Actions\">Actions</a></li>\n                      <li class=\"edge-item-fix\"><a href=\"/features/packages\" class=\"py-2 lh-condensed-ultra d-block link-gray no-underline f5\" data-ga-click=\"(Logged out) Header, go to GitHub Packages\">Packages</a></li>\n                      <li class=\"edge-item-fix\"><a href=\"/features/security\" class=\"py-2 lh-condensed-ultra d-block link-gray no-underline f5\" data-ga-click=\"(Logged out) Header, go to Security\">Security</a></li>\n                      <li class=\"edge-item-fix\"><a href=\"/features#team-management\" class=\"py-2 lh-condensed-ultra d-block link-gray no-underline f5\" data-ga-click=\"(Logged out) Header, go to Team management\">Team management</a></li>\n                      <li class=\"edge-item-fix\"><a href=\"/features#hosting\" class=\"py-2 lh-condensed-ultra d-block link-gray no-underline f5\" data-ga-click=\"(Logged out) Header, go to Code hosting\">Hosting</a></li>\n                      <li class=\"edge-item-fix hide-xl\"><a href=\"/mobile\" class=\"py-2 lh-condensed-ultra d-block link-gray no-underline f5\" data-ga-click=\"(Logged out) Header, go to Mobile\">Mobile</a></li>\n                    </ul>\n\n                    <ul class=\"list-style-none mb-0 border-lg-top pt-lg-3\">\n                      <li class=\"edge-item-fix\"><a href=\"/customer-stories\" class=\"py-2 lh-condensed-ultra d-block no-underline link-gray-dark no-underline h5 Bump-link--hover\" data-ga-click=\"(Logged out) Header, go to Customer stories\">Customer stories <span class=\"Bump-link-symbol float-right text-normal text-gray-light\">&rarr;</span></a></li>\n                      <li class=\"edge-item-fix\"><a href=\"/security\" class=\"py-2 lh-condensed-ultra d-block no-underline link-gray-dark no-underline h5 Bump-link--hover\" data-ga-click=\"(Logged out) Header, go to Security\">Security <span class=\"Bump-link-symbol float-right text-normal text-gray-light\">&rarr;</span></a></li>\n                    </ul>\n                  </div>\n                </details>\n              </li>\n              <li class=\"border-bottom border-lg-bottom-0 mr-0 mr-lg-3\">\n                <a href=\"/team\" class=\"HeaderMenu-link no-underline py-3 d-block d-lg-inline-block\" data-ga-click=\"(Logged out) Header, go to Team\">Team</a>\n              </li>\n              <li class=\"border-bottom border-lg-bottom-0 mr-0 mr-lg-3\">\n                <a href=\"/enterprise\" class=\"HeaderMenu-link no-underline py-3 d-block d-lg-inline-block\" data-ga-click=\"(Logged out) Header, go to Enterprise\">Enterprise</a>\n              </li>\n\n              <li class=\"d-block d-lg-flex flex-lg-nowrap flex-lg-items-center border-bottom border-lg-bottom-0 mr-0 mr-lg-3 edge-item-fix position-relative flex-wrap flex-justify-between d-flex flex-items-center \">\n                <details class=\"HeaderMenu-details details-overlay details-reset width-full\">\n                  <summary class=\"HeaderMenu-summary HeaderMenu-link px-0 py-3 border-0 no-wrap d-block d-lg-inline-block\">\n                    Explore\n                    <svg x=\"0px\" y=\"0px\" viewBox=\"0 0 14 8\" xml:space=\"preserve\" fill=\"none\" class=\"icon-chevon-down-mktg position-absolute position-lg-relative\">\n                      <path d=\"M1,1l6.2,6L13,1\"></path>\n                    </svg>\n                  </summary>\n\n                  <div class=\"dropdown-menu flex-auto rounded-1 bg-white px-0 pt-2 pb-0 mt-0 pb-4 p-lg-4 position-relative position-lg-absolute left-0 left-lg-n4\">\n                    <ul class=\"list-style-none mb-3\">\n                      <li class=\"edge-item-fix\"><a href=\"/explore\" class=\"py-2 lh-condensed-ultra d-block link-gray-dark no-underline h5 Bump-link--hover\" data-ga-click=\"(Logged out) Header, go to Explore\">Explore GitHub <span class=\"Bump-link-symbol float-right text-normal text-gray-light\">&rarr;</span></a></li>\n                    </ul>\n\n                    <h4 class=\"text-gray-light text-normal text-mono f5 mb-2 border-lg-top pt-lg-3\">Learn &amp; contribute</h4>\n                    <ul class=\"list-style-none mb-3\">\n                      <li class=\"edge-item-fix\"><a href=\"/topics\" class=\"py-2 lh-condensed-ultra d-block link-gray no-underline f5\" data-ga-click=\"(Logged out) Header, go to Topics\">Topics</a></li>\n                        <li class=\"edge-item-fix\"><a href=\"/collections\" class=\"py-2 lh-condensed-ultra d-block link-gray no-underline f5\" data-ga-click=\"(Logged out) Header, go to Collections\">Collections</a></li>\n                      <li class=\"edge-item-fix\"><a href=\"/trending\" class=\"py-2 lh-condensed-ultra d-block link-gray no-underline f5\" data-ga-click=\"(Logged out) Header, go to Trending\">Trending</a></li>\n                      <li class=\"edge-item-fix\"><a href=\"https://lab.github.com/\" class=\"py-2 lh-condensed-ultra d-block link-gray no-underline f5\" data-ga-click=\"(Logged out) Header, go to Learning lab\">Learning Lab</a></li>\n                      <li class=\"edge-item-fix\"><a href=\"https://opensource.guide\" class=\"py-2 lh-condensed-ultra d-block link-gray no-underline f5\" data-ga-click=\"(Logged out) Header, go to Open source guides\">Open source guides</a></li>\n                    </ul>\n\n                    <h4 class=\"text-gray-light text-normal text-mono f5 mb-2 border-lg-top pt-lg-3\">Connect with others</h4>\n                    <ul class=\"list-style-none mb-0\">\n                      <li class=\"edge-item-fix\"><a href=\"https://github.com/events\" class=\"py-2 lh-condensed-ultra d-block link-gray no-underline f5\" data-ga-click=\"(Logged out) Header, go to Events\">Events</a></li>\n                      <li class=\"edge-item-fix\"><a href=\"https://github.community\" class=\"py-2 lh-condensed-ultra d-block link-gray no-underline f5\" data-ga-click=\"(Logged out) Header, go to Community forum\">Community forum</a></li>\n                      <li class=\"edge-item-fix\"><a href=\"https://education.github.com\" class=\"py-2 pb-0 lh-condensed-ultra d-block link-gray no-underline f5\" data-ga-click=\"(Logged out) Header, go to GitHub Education\">GitHub Education</a></li>\n                    </ul>\n                  </div>\n                </details>\n              </li>\n\n              <li class=\"border-bottom border-lg-bottom-0 mr-0 mr-lg-3\">\n                <a href=\"/marketplace\" class=\"HeaderMenu-link no-underline py-3 d-block d-lg-inline-block\" data-ga-click=\"(Logged out) Header, go to Marketplace\">Marketplace</a>\n              </li>\n\n              <li class=\"d-block d-lg-flex flex-lg-nowrap flex-lg-items-center border-bottom border-lg-bottom-0 mr-0 mr-lg-3 edge-item-fix position-relative flex-wrap flex-justify-between d-flex flex-items-center \">\n                <details class=\"HeaderMenu-details details-overlay details-reset width-full\">\n                  <summary class=\"HeaderMenu-summary HeaderMenu-link px-0 py-3 border-0 no-wrap d-block d-lg-inline-block\">\n                    Pricing\n                    <svg x=\"0px\" y=\"0px\" viewBox=\"0 0 14 8\" xml:space=\"preserve\" fill=\"none\" class=\"icon-chevon-down-mktg position-absolute position-lg-relative\">\n                       <path d=\"M1,1l6.2,6L13,1\"></path>\n                    </svg>\n                  </summary>\n\n                  <div class=\"dropdown-menu flex-auto rounded-1 bg-white px-0 pt-2 pb-4 mt-0 p-lg-4 position-relative position-lg-absolute left-0 left-lg-n4\">\n                    <a href=\"/pricing\" class=\"pb-2 lh-condensed-ultra d-block link-gray-dark no-underline h5 Bump-link--hover\" data-ga-click=\"(Logged out) Header, go to Pricing\">Plans <span class=\"Bump-link-symbol float-right text-normal text-gray-light\">&rarr;</span></a>\n\n                    <ul class=\"list-style-none mb-3\">\n                      <li class=\"edge-item-fix\"><a href=\"/pricing#feature-comparison\" class=\"py-2 lh-condensed-ultra d-block link-gray no-underline f5\" data-ga-click=\"(Logged out) Header, go to Compare plans\">Compare plans</a></li>\n                      <li class=\"edge-item-fix\"><a href=\"https://enterprise.github.com/contact\" class=\"py-2 lh-condensed-ultra d-block link-gray no-underline f5\" data-ga-click=\"(Logged out) Header, go to Contact Sales\">Contact Sales</a></li>\n                    </ul>\n\n                    <ul class=\"list-style-none mb-0 border-lg-top pt-lg-3\">\n                      <li class=\"edge-item-fix\"><a href=\"/nonprofit\" class=\"py-2 lh-condensed-ultra d-block no-underline link-gray-dark no-underline h5 Bump-link--hover\" data-ga-click=\"(Logged out) Header, go to Nonprofits\">Nonprofit <span class=\"Bump-link-symbol float-right text-normal text-gray-light\">&rarr;</span></a></li>\n                      <li class=\"edge-item-fix\"><a href=\"https://education.github.com\" class=\"py-2 pb-0 lh-condensed-ultra d-block no-underline link-gray-dark no-underline h5 Bump-link--hover\"  data-ga-click=\"(Logged out) Header, go to Education\">Education <span class=\"Bump-link-symbol float-right text-normal text-gray-light\">&rarr;</span></a></li>\n                    </ul>\n                  </div>\n                </details>\n              </li>\n          </ul>\n        </nav>\n\n      <div class=\"d-lg-flex flex-items-center px-3 px-lg-0 text-center text-lg-left\">\n          <div class=\"d-lg-flex mb-3 mb-lg-0\">\n            <div class=\"header-search header-search-current js-header-search-current flex-auto  flex-self-stretch flex-md-self-auto mr-0 mr-md-3 mb-3 mb-md-0 scoped-search site-scoped-search js-site-search position-relative js-jump-to js-header-search-current-jump-to\"\n  role=\"combobox\"\n  aria-owns=\"jump-to-results\"\n  aria-label=\"Search or jump to\"\n  aria-haspopup=\"listbox\"\n  aria-expanded=\"false\"\n>\n  <div class=\"position-relative\">\n    <!-- '\"` --><!-- </textarea></xmp> --></option></form><form class=\"js-site-search-form\" role=\"search\" aria-label=\"Site\" data-scope-type=\"Repository\" data-scope-id=\"279868409\" data-scoped-search-url=\"/panambY/Used_Car_Price/search\" data-unscoped-search-url=\"/search\" action=\"/panambY/Used_Car_Price/search\" accept-charset=\"UTF-8\" method=\"get\">\n      <label class=\"form-control input-sm header-search-wrapper p-0 header-search-wrapper-jump-to position-relative d-flex flex-justify-between flex-items-center js-chromeless-input-container\">\n        <input type=\"text\"\n          class=\"form-control input-sm header-search-input jump-to-field js-jump-to-field js-site-search-focus js-site-search-field is-clearable\"\n          data-hotkey=\"s,/\"\n          name=\"q\"\n          value=\"\"\n          placeholder=\"Search\"\n          data-unscoped-placeholder=\"Search GitHub\"\n          data-scoped-placeholder=\"Search\"\n          autocapitalize=\"off\"\n          aria-autocomplete=\"list\"\n          aria-controls=\"jump-to-results\"\n          aria-label=\"Search\"\n          data-jump-to-suggestions-path=\"/_graphql/GetSuggestedNavigationDestinations\"\n          spellcheck=\"false\"\n          autocomplete=\"off\"\n          >\n          <input type=\"hidden\" data-csrf=\"true\" class=\"js-data-jump-to-suggestions-path-csrf\" value=\"tpoSv6j2cbTjUDpj7wM3aZOkZCbVlYfxXD5J+HyrLJ5k2xc62XeBvMcqB1XA+hWLzro7C3gsu1US7I7RFpVdNQ==\" />\n          <input type=\"hidden\" class=\"js-site-search-type-field\" name=\"type\" >\n            <img src=\"https://github.githubassets.com/images/search-key-slash.svg\" alt=\"\" class=\"mr-2 header-search-key-slash\">\n\n            <div class=\"Box position-absolute overflow-hidden d-none jump-to-suggestions js-jump-to-suggestions-container\">\n              \n<ul class=\"d-none js-jump-to-suggestions-template-container\">\n  \n\n<li class=\"d-flex flex-justify-start flex-items-center p-0 f5 navigation-item js-navigation-item js-jump-to-suggestion\" role=\"option\">\n  <a tabindex=\"-1\" class=\"no-underline d-flex flex-auto flex-items-center jump-to-suggestions-path js-jump-to-suggestion-path js-navigation-open p-2\" href=\"\">\n    <div class=\"jump-to-octicon js-jump-to-octicon flex-shrink-0 mr-2 text-center d-none\">\n      <svg height=\"16\" width=\"16\" class=\"octicon octicon-repo flex-shrink-0 js-jump-to-octicon-repo d-none\" title=\"Repository\" aria-label=\"Repository\" viewBox=\"0 0 16 16\" version=\"1.1\" role=\"img\"><path fill-rule=\"evenodd\" d=\"M2 2.5A2.5 2.5 0 014.5 0h8.75a.75.75 0 01.75.75v12.5a.75.75 0 01-.75.75h-2.5a.75.75 0 110-1.5h1.75v-2h-8a1 1 0 00-.714 1.7.75.75 0 01-1.072 1.05A2.495 2.495 0 012 11.5v-9zm10.5-1V9h-8c-.356 0-.694.074-1 .208V2.5a1 1 0 011-1h8zM5 12.25v3.25a.25.25 0 00.4.2l1.45-1.087a.25.25 0 01.3 0L8.6 15.7a.25.25 0 00.4-.2v-3.25a.25.25 0 00-.25-.25h-3.5a.25.25 0 00-.25.25z\"></path></svg>\n      <svg height=\"16\" width=\"16\" class=\"octicon octicon-project flex-shrink-0 js-jump-to-octicon-project d-none\" title=\"Project\" aria-label=\"Project\" viewBox=\"0 0 16 16\" version=\"1.1\" role=\"img\"><path fill-rule=\"evenodd\" d=\"M1.75 0A1.75 1.75 0 000 1.75v12.5C0 15.216.784 16 1.75 16h12.5A1.75 1.75 0 0016 14.25V1.75A1.75 1.75 0 0014.25 0H1.75zM1.5 1.75a.25.25 0 01.25-.25h12.5a.25.25 0 01.25.25v12.5a.25.25 0 01-.25.25H1.75a.25.25 0 01-.25-.25V1.75zM11.75 3a.75.75 0 00-.75.75v7.5a.75.75 0 001.5 0v-7.5a.75.75 0 00-.75-.75zm-8.25.75a.75.75 0 011.5 0v5.5a.75.75 0 01-1.5 0v-5.5zM8 3a.75.75 0 00-.75.75v3.5a.75.75 0 001.5 0v-3.5A.75.75 0 008 3z\"></path></svg>\n      <svg height=\"16\" width=\"16\" class=\"octicon octicon-search flex-shrink-0 js-jump-to-octicon-search d-none\" title=\"Search\" aria-label=\"Search\" viewBox=\"0 0 16 16\" version=\"1.1\" role=\"img\"><path fill-rule=\"evenodd\" d=\"M11.5 7a4.499 4.499 0 11-8.998 0A4.499 4.499 0 0111.5 7zm-.82 4.74a6 6 0 111.06-1.06l3.04 3.04a.75.75 0 11-1.06 1.06l-3.04-3.04z\"></path></svg>\n    </div>\n\n    <img class=\"avatar mr-2 flex-shrink-0 js-jump-to-suggestion-avatar d-none\" alt=\"\" aria-label=\"Team\" src=\"\" width=\"28\" height=\"28\">\n\n    <div class=\"jump-to-suggestion-name js-jump-to-suggestion-name flex-auto overflow-hidden text-left no-wrap css-truncate css-truncate-target\">\n    </div>\n\n    <div class=\"border rounded-1 flex-shrink-0 bg-gray px-1 text-gray-light ml-1 f6 d-none js-jump-to-badge-search\">\n      <span class=\"js-jump-to-badge-search-text-default d-none\" aria-label=\"in this repository\">\n        In this repository\n      </span>\n      <span class=\"js-jump-to-badge-search-text-global d-none\" aria-label=\"in all of GitHub\">\n        All GitHub\n      </span>\n      <span aria-hidden=\"true\" class=\"d-inline-block ml-1 v-align-middle\">↵</span>\n    </div>\n\n    <div aria-hidden=\"true\" class=\"border rounded-1 flex-shrink-0 bg-gray px-1 text-gray-light ml-1 f6 d-none d-on-nav-focus js-jump-to-badge-jump\">\n      Jump to\n      <span class=\"d-inline-block ml-1 v-align-middle\">↵</span>\n    </div>\n  </a>\n</li>\n\n</ul>\n\n<ul class=\"d-none js-jump-to-no-results-template-container\">\n  <li class=\"d-flex flex-justify-center flex-items-center f5 d-none js-jump-to-suggestion p-2\">\n    <span class=\"text-gray\">No suggested jump to results</span>\n  </li>\n</ul>\n\n<ul id=\"jump-to-results\" role=\"listbox\" class=\"p-0 m-0 js-navigation-container jump-to-suggestions-results-container js-jump-to-suggestions-results-container\">\n  \n\n<li class=\"d-flex flex-justify-start flex-items-center p-0 f5 navigation-item js-navigation-item js-jump-to-scoped-search d-none\" role=\"option\">\n  <a tabindex=\"-1\" class=\"no-underline d-flex flex-auto flex-items-center jump-to-suggestions-path js-jump-to-suggestion-path js-navigation-open p-2\" href=\"\">\n    <div class=\"jump-to-octicon js-jump-to-octicon flex-shrink-0 mr-2 text-center d-none\">\n      <svg height=\"16\" width=\"16\" class=\"octicon octicon-repo flex-shrink-0 js-jump-to-octicon-repo d-none\" title=\"Repository\" aria-label=\"Repository\" viewBox=\"0 0 16 16\" version=\"1.1\" role=\"img\"><path fill-rule=\"evenodd\" d=\"M2 2.5A2.5 2.5 0 014.5 0h8.75a.75.75 0 01.75.75v12.5a.75.75 0 01-.75.75h-2.5a.75.75 0 110-1.5h1.75v-2h-8a1 1 0 00-.714 1.7.75.75 0 01-1.072 1.05A2.495 2.495 0 012 11.5v-9zm10.5-1V9h-8c-.356 0-.694.074-1 .208V2.5a1 1 0 011-1h8zM5 12.25v3.25a.25.25 0 00.4.2l1.45-1.087a.25.25 0 01.3 0L8.6 15.7a.25.25 0 00.4-.2v-3.25a.25.25 0 00-.25-.25h-3.5a.25.25 0 00-.25.25z\"></path></svg>\n      <svg height=\"16\" width=\"16\" class=\"octicon octicon-project flex-shrink-0 js-jump-to-octicon-project d-none\" title=\"Project\" aria-label=\"Project\" viewBox=\"0 0 16 16\" version=\"1.1\" role=\"img\"><path fill-rule=\"evenodd\" d=\"M1.75 0A1.75 1.75 0 000 1.75v12.5C0 15.216.784 16 1.75 16h12.5A1.75 1.75 0 0016 14.25V1.75A1.75 1.75 0 0014.25 0H1.75zM1.5 1.75a.25.25 0 01.25-.25h12.5a.25.25 0 01.25.25v12.5a.25.25 0 01-.25.25H1.75a.25.25 0 01-.25-.25V1.75zM11.75 3a.75.75 0 00-.75.75v7.5a.75.75 0 001.5 0v-7.5a.75.75 0 00-.75-.75zm-8.25.75a.75.75 0 011.5 0v5.5a.75.75 0 01-1.5 0v-5.5zM8 3a.75.75 0 00-.75.75v3.5a.75.75 0 001.5 0v-3.5A.75.75 0 008 3z\"></path></svg>\n      <svg height=\"16\" width=\"16\" class=\"octicon octicon-search flex-shrink-0 js-jump-to-octicon-search d-none\" title=\"Search\" aria-label=\"Search\" viewBox=\"0 0 16 16\" version=\"1.1\" role=\"img\"><path fill-rule=\"evenodd\" d=\"M11.5 7a4.499 4.499 0 11-8.998 0A4.499 4.499 0 0111.5 7zm-.82 4.74a6 6 0 111.06-1.06l3.04 3.04a.75.75 0 11-1.06 1.06l-3.04-3.04z\"></path></svg>\n    </div>\n\n    <img class=\"avatar mr-2 flex-shrink-0 js-jump-to-suggestion-avatar d-none\" alt=\"\" aria-label=\"Team\" src=\"\" width=\"28\" height=\"28\">\n\n    <div class=\"jump-to-suggestion-name js-jump-to-suggestion-name flex-auto overflow-hidden text-left no-wrap css-truncate css-truncate-target\">\n    </div>\n\n    <div class=\"border rounded-1 flex-shrink-0 bg-gray px-1 text-gray-light ml-1 f6 d-none js-jump-to-badge-search\">\n      <span class=\"js-jump-to-badge-search-text-default d-none\" aria-label=\"in this repository\">\n        In this repository\n      </span>\n      <span class=\"js-jump-to-badge-search-text-global d-none\" aria-label=\"in all of GitHub\">\n        All GitHub\n      </span>\n      <span aria-hidden=\"true\" class=\"d-inline-block ml-1 v-align-middle\">↵</span>\n    </div>\n\n    <div aria-hidden=\"true\" class=\"border rounded-1 flex-shrink-0 bg-gray px-1 text-gray-light ml-1 f6 d-none d-on-nav-focus js-jump-to-badge-jump\">\n      Jump to\n      <span class=\"d-inline-block ml-1 v-align-middle\">↵</span>\n    </div>\n  </a>\n</li>\n\n  \n\n<li class=\"d-flex flex-justify-start flex-items-center p-0 f5 navigation-item js-navigation-item js-jump-to-global-search d-none\" role=\"option\">\n  <a tabindex=\"-1\" class=\"no-underline d-flex flex-auto flex-items-center jump-to-suggestions-path js-jump-to-suggestion-path js-navigation-open p-2\" href=\"\">\n    <div class=\"jump-to-octicon js-jump-to-octicon flex-shrink-0 mr-2 text-center d-none\">\n      <svg height=\"16\" width=\"16\" class=\"octicon octicon-repo flex-shrink-0 js-jump-to-octicon-repo d-none\" title=\"Repository\" aria-label=\"Repository\" viewBox=\"0 0 16 16\" version=\"1.1\" role=\"img\"><path fill-rule=\"evenodd\" d=\"M2 2.5A2.5 2.5 0 014.5 0h8.75a.75.75 0 01.75.75v12.5a.75.75 0 01-.75.75h-2.5a.75.75 0 110-1.5h1.75v-2h-8a1 1 0 00-.714 1.7.75.75 0 01-1.072 1.05A2.495 2.495 0 012 11.5v-9zm10.5-1V9h-8c-.356 0-.694.074-1 .208V2.5a1 1 0 011-1h8zM5 12.25v3.25a.25.25 0 00.4.2l1.45-1.087a.25.25 0 01.3 0L8.6 15.7a.25.25 0 00.4-.2v-3.25a.25.25 0 00-.25-.25h-3.5a.25.25 0 00-.25.25z\"></path></svg>\n      <svg height=\"16\" width=\"16\" class=\"octicon octicon-project flex-shrink-0 js-jump-to-octicon-project d-none\" title=\"Project\" aria-label=\"Project\" viewBox=\"0 0 16 16\" version=\"1.1\" role=\"img\"><path fill-rule=\"evenodd\" d=\"M1.75 0A1.75 1.75 0 000 1.75v12.5C0 15.216.784 16 1.75 16h12.5A1.75 1.75 0 0016 14.25V1.75A1.75 1.75 0 0014.25 0H1.75zM1.5 1.75a.25.25 0 01.25-.25h12.5a.25.25 0 01.25.25v12.5a.25.25 0 01-.25.25H1.75a.25.25 0 01-.25-.25V1.75zM11.75 3a.75.75 0 00-.75.75v7.5a.75.75 0 001.5 0v-7.5a.75.75 0 00-.75-.75zm-8.25.75a.75.75 0 011.5 0v5.5a.75.75 0 01-1.5 0v-5.5zM8 3a.75.75 0 00-.75.75v3.5a.75.75 0 001.5 0v-3.5A.75.75 0 008 3z\"></path></svg>\n      <svg height=\"16\" width=\"16\" class=\"octicon octicon-search flex-shrink-0 js-jump-to-octicon-search d-none\" title=\"Search\" aria-label=\"Search\" viewBox=\"0 0 16 16\" version=\"1.1\" role=\"img\"><path fill-rule=\"evenodd\" d=\"M11.5 7a4.499 4.499 0 11-8.998 0A4.499 4.499 0 0111.5 7zm-.82 4.74a6 6 0 111.06-1.06l3.04 3.04a.75.75 0 11-1.06 1.06l-3.04-3.04z\"></path></svg>\n    </div>\n\n    <img class=\"avatar mr-2 flex-shrink-0 js-jump-to-suggestion-avatar d-none\" alt=\"\" aria-label=\"Team\" src=\"\" width=\"28\" height=\"28\">\n\n    <div class=\"jump-to-suggestion-name js-jump-to-suggestion-name flex-auto overflow-hidden text-left no-wrap css-truncate css-truncate-target\">\n    </div>\n\n    <div class=\"border rounded-1 flex-shrink-0 bg-gray px-1 text-gray-light ml-1 f6 d-none js-jump-to-badge-search\">\n      <span class=\"js-jump-to-badge-search-text-default d-none\" aria-label=\"in this repository\">\n        In this repository\n      </span>\n      <span class=\"js-jump-to-badge-search-text-global d-none\" aria-label=\"in all of GitHub\">\n        All GitHub\n      </span>\n      <span aria-hidden=\"true\" class=\"d-inline-block ml-1 v-align-middle\">↵</span>\n    </div>\n\n    <div aria-hidden=\"true\" class=\"border rounded-1 flex-shrink-0 bg-gray px-1 text-gray-light ml-1 f6 d-none d-on-nav-focus js-jump-to-badge-jump\">\n      Jump to\n      <span class=\"d-inline-block ml-1 v-align-middle\">↵</span>\n    </div>\n  </a>\n</li>\n\n\n</ul>\n\n            </div>\n      </label>\n</form>  </div>\n</div>\n\n          </div>\n\n        <a href=\"/login?return_to=%2FpanambY%2FUsed_Car_Price%2Fblob%2Fmaster%2Fimage%2FHyphoteses_Map.png\"\n          class=\"HeaderMenu-link no-underline mr-3\"\n          data-hydro-click=\"{&quot;event_type&quot;:&quot;authentication.click&quot;,&quot;payload&quot;:{&quot;location_in_page&quot;:&quot;site header menu&quot;,&quot;repository_id&quot;:null,&quot;auth_type&quot;:&quot;SIGN_UP&quot;,&quot;originating_url&quot;:&quot;https://github.com/panambY/Used_Car_Price/blob/master/image/Hyphoteses_Map.png&quot;,&quot;user_id&quot;:null}}\" data-hydro-click-hmac=\"13dfc36f32969140bb72f6f91d97c103191fb47ccf930196f2ad5072845ad49a\"\n          data-ga-click=\"(Logged out) Header, clicked Sign in, text:sign-in\">\n          Sign&nbsp;in\n        </a>\n            <a href=\"/join?ref_cta=Sign+up&amp;ref_loc=header+logged+out&amp;ref_page=%2F%3Cuser-name%3E%2F%3Crepo-name%3E%2Fblob%2Fshow&amp;source=header-repo&amp;source_repo=panambY%2FUsed_Car_Price\"\n              class=\"HeaderMenu-link d-inline-block no-underline border border-gray-dark rounded-1 px-2 py-1\"\n              data-hydro-click=\"{&quot;event_type&quot;:&quot;authentication.click&quot;,&quot;payload&quot;:{&quot;location_in_page&quot;:&quot;site header menu&quot;,&quot;repository_id&quot;:null,&quot;auth_type&quot;:&quot;SIGN_UP&quot;,&quot;originating_url&quot;:&quot;https://github.com/panambY/Used_Car_Price/blob/master/image/Hyphoteses_Map.png&quot;,&quot;user_id&quot;:null}}\" data-hydro-click-hmac=\"13dfc36f32969140bb72f6f91d97c103191fb47ccf930196f2ad5072845ad49a\"\n              data-ga-click=\"Sign up, click to sign up for account, ref_page:/&lt;user-name&gt;/&lt;repo-name&gt;/blob/show;ref_cta:Sign up;ref_loc:header logged out\">\n              Sign&nbsp;up\n            </a>\n      </div>\n    </div>\n  </div>\n</header>\n\n    </div>\n\n  <div id=\"start-of-content\" class=\"show-on-focus\"></div>\n\n\n\n\n    <div id=\"js-flash-container\">\n\n\n  <template class=\"js-flash-template\">\n    <div class=\"flash flash-full  js-flash-template-container\">\n  <div class=\" px-2\" >\n    <button class=\"flash-close js-flash-close\" type=\"button\" aria-label=\"Dismiss this message\">\n      <svg class=\"octicon octicon-x\" viewBox=\"0 0 16 16\" version=\"1.1\" width=\"16\" height=\"16\" aria-hidden=\"true\"><path fill-rule=\"evenodd\" d=\"M3.72 3.72a.75.75 0 011.06 0L8 6.94l3.22-3.22a.75.75 0 111.06 1.06L9.06 8l3.22 3.22a.75.75 0 11-1.06 1.06L8 9.06l-3.22 3.22a.75.75 0 01-1.06-1.06L6.94 8 3.72 4.78a.75.75 0 010-1.06z\"></path></svg>\n    </button>\n    \n      <div class=\"js-flash-template-message\"></div>\n\n  </div>\n</div>\n  </template>\n</div>\n\n\n  \n\n  <include-fragment class=\"js-notification-shelf-include-fragment\" data-base-src=\"https://github.com/notifications/beta/shelf\"></include-fragment>\n\n\n\n  <div\n    class=\"application-main \"\n    data-commit-hovercards-enabled\n    data-discussion-hovercards-enabled\n    data-issue-and-pr-hovercards-enabled\n  >\n        <div itemscope itemtype=\"http://schema.org/SoftwareSourceCode\" class=\"\">\n    <main  >\n      \n\n  \n\n\n\n\n\n\n\n\n\n\n  <div class=\"bg-gray-light pt-3 hide-full-screen mb-5\">\n\n    <div class=\"d-flex mb-3 px-3 px-md-4 px-lg-5\">\n\n      <div class=\"flex-auto min-width-0 width-fit mr-3\">\n        <h1 class=\" d-flex flex-wrap flex-items-center break-word f3 text-normal\">\n    <svg class=\"octicon octicon-repo text-gray\" viewBox=\"0 0 16 16\" version=\"1.1\" width=\"16\" height=\"16\" aria-hidden=\"true\"><path fill-rule=\"evenodd\" d=\"M2 2.5A2.5 2.5 0 014.5 0h8.75a.75.75 0 01.75.75v12.5a.75.75 0 01-.75.75h-2.5a.75.75 0 110-1.5h1.75v-2h-8a1 1 0 00-.714 1.7.75.75 0 01-1.072 1.05A2.495 2.495 0 012 11.5v-9zm10.5-1V9h-8c-.356 0-.694.074-1 .208V2.5a1 1 0 011-1h8zM5 12.25v3.25a.25.25 0 00.4.2l1.45-1.087a.25.25 0 01.3 0L8.6 15.7a.25.25 0 00.4-.2v-3.25a.25.25 0 00-.25-.25h-3.5a.25.25 0 00-.25.25z\"></path></svg>\n  <span class=\"author ml-2 flex-self-stretch\" itemprop=\"author\">\n    <a class=\"url fn\" rel=\"author\" data-hovercard-type=\"user\" data-hovercard-url=\"/users/panambY/hovercard\" data-octo-click=\"hovercard-link-click\" data-octo-dimensions=\"link_type:self\" href=\"/panambY\">panambY</a>\n  </span>\n  <span class=\"mx-1 flex-self-stretch\">/</span>\n  <strong itemprop=\"name\" class=\"mr-2 flex-self-stretch\">\n    <a data-pjax=\"#js-repo-pjax-container\" href=\"/panambY/Used_Car_Price\">Used_Car_Price</a>\n  </strong>\n  \n</h1>\n\n\n      </div>\n\n      <ul class=\"pagehead-actions flex-shrink-0 d-none d-md-inline\" style=\"padding: 2px 0;\">\n\n  <li>\n      <a class=\"tooltipped tooltipped-s btn btn-sm btn-with-count\" aria-label=\"You must be signed in to watch a repository\" rel=\"nofollow\" data-hydro-click=\"{&quot;event_type&quot;:&quot;authentication.click&quot;,&quot;payload&quot;:{&quot;location_in_page&quot;:&quot;notification subscription menu watch&quot;,&quot;repository_id&quot;:null,&quot;auth_type&quot;:&quot;LOG_IN&quot;,&quot;originating_url&quot;:&quot;https://github.com/panambY/Used_Car_Price/blob/master/image/Hyphoteses_Map.png&quot;,&quot;user_id&quot;:null}}\" data-hydro-click-hmac=\"44f6daa4fda5eb9cf8b9390f7b291154e5ef598e17605e2100ba71df3c7f3041\" href=\"/login?return_to=%2FpanambY%2FUsed_Car_Price\">\n    <svg height=\"16\" class=\"octicon octicon-eye\" viewBox=\"0 0 16 16\" version=\"1.1\" width=\"16\" aria-hidden=\"true\"><path fill-rule=\"evenodd\" d=\"M1.679 7.932c.412-.621 1.242-1.75 2.366-2.717C5.175 4.242 6.527 3.5 8 3.5c1.473 0 2.824.742 3.955 1.715 1.124.967 1.954 2.096 2.366 2.717a.119.119 0 010 .136c-.412.621-1.242 1.75-2.366 2.717C10.825 11.758 9.473 12.5 8 12.5c-1.473 0-2.824-.742-3.955-1.715C2.92 9.818 2.09 8.69 1.679 8.068a.119.119 0 010-.136zM8 2c-1.981 0-3.67.992-4.933 2.078C1.797 5.169.88 6.423.43 7.1a1.619 1.619 0 000 1.798c.45.678 1.367 1.932 2.637 3.024C4.329 13.008 6.019 14 8 14c1.981 0 3.67-.992 4.933-2.078 1.27-1.091 2.187-2.345 2.637-3.023a1.619 1.619 0 000-1.798c-.45-.678-1.367-1.932-2.637-3.023C11.671 2.992 9.981 2 8 2zm0 8a2 2 0 100-4 2 2 0 000 4z\"></path></svg>\n    Watch\n</a>    <a class=\"social-count\" href=\"/panambY/Used_Car_Price/watchers\"\n       aria-label=\"0 users are watching this repository\">\n      0\n    </a>\n\n  </li>\n\n  <li>\n        <a class=\"btn btn-sm btn-with-count  tooltipped tooltipped-s\" aria-label=\"You must be signed in to star a repository\" rel=\"nofollow\" data-hydro-click=\"{&quot;event_type&quot;:&quot;authentication.click&quot;,&quot;payload&quot;:{&quot;location_in_page&quot;:&quot;star button&quot;,&quot;repository_id&quot;:279868409,&quot;auth_type&quot;:&quot;LOG_IN&quot;,&quot;originating_url&quot;:&quot;https://github.com/panambY/Used_Car_Price/blob/master/image/Hyphoteses_Map.png&quot;,&quot;user_id&quot;:null}}\" data-hydro-click-hmac=\"d0d2c441f8d87d241efbc27c416f05170f7f29709afba0d8764d9f485db4e9a0\" href=\"/login?return_to=%2FpanambY%2FUsed_Car_Price\">\n      <svg vertical_align=\"text_bottom\" height=\"16\" class=\"octicon octicon-star v-align-text-bottom\" viewBox=\"0 0 16 16\" version=\"1.1\" width=\"16\" aria-hidden=\"true\"><path fill-rule=\"evenodd\" d=\"M8 .25a.75.75 0 01.673.418l1.882 3.815 4.21.612a.75.75 0 01.416 1.279l-3.046 2.97.719 4.192a.75.75 0 01-1.088.791L8 12.347l-3.766 1.98a.75.75 0 01-1.088-.79l.72-4.194L.818 6.374a.75.75 0 01.416-1.28l4.21-.611L7.327.668A.75.75 0 018 .25zm0 2.445L6.615 5.5a.75.75 0 01-.564.41l-3.097.45 2.24 2.184a.75.75 0 01.216.664l-.528 3.084 2.769-1.456a.75.75 0 01.698 0l2.77 1.456-.53-3.084a.75.75 0 01.216-.664l2.24-2.183-3.096-.45a.75.75 0 01-.564-.41L8 2.694v.001z\"></path></svg>\n      Star\n</a>\n    <a class=\"social-count js-social-count\" href=\"/panambY/Used_Car_Price/stargazers\"\n      aria-label=\"0 users starred this repository\">\n      0\n    </a>\n\n  </li>\n\n  <li>\n      <a class=\"btn btn-sm btn-with-count tooltipped tooltipped-s\" aria-label=\"You must be signed in to fork a repository\" rel=\"nofollow\" data-hydro-click=\"{&quot;event_type&quot;:&quot;authentication.click&quot;,&quot;payload&quot;:{&quot;location_in_page&quot;:&quot;repo details fork button&quot;,&quot;repository_id&quot;:279868409,&quot;auth_type&quot;:&quot;LOG_IN&quot;,&quot;originating_url&quot;:&quot;https://github.com/panambY/Used_Car_Price/blob/master/image/Hyphoteses_Map.png&quot;,&quot;user_id&quot;:null}}\" data-hydro-click-hmac=\"4a4ba21f9d7107d03cef2e587bf91261a344174dd187b0775a96773a5c559765\" href=\"/login?return_to=%2FpanambY%2FUsed_Car_Price\">\n        <svg class=\"octicon octicon-repo-forked\" viewBox=\"0 0 16 16\" version=\"1.1\" width=\"16\" height=\"16\" aria-hidden=\"true\"><path fill-rule=\"evenodd\" d=\"M5 3.25a.75.75 0 11-1.5 0 .75.75 0 011.5 0zm0 2.122a2.25 2.25 0 10-1.5 0v.878A2.25 2.25 0 005.75 8.5h1.5v2.128a2.251 2.251 0 101.5 0V8.5h1.5a2.25 2.25 0 002.25-2.25v-.878a2.25 2.25 0 10-1.5 0v.878a.75.75 0 01-.75.75h-4.5A.75.75 0 015 6.25v-.878zm3.75 7.378a.75.75 0 11-1.5 0 .75.75 0 011.5 0zm3-8.75a.75.75 0 100-1.5.75.75 0 000 1.5z\"></path></svg>\n        Fork\n</a>\n    <a href=\"/panambY/Used_Car_Price/network/members\" class=\"social-count\"\n       aria-label=\"0 users forked this repository\">\n      0\n    </a>\n  </li>\n</ul>\n\n    </div>\n    \n<nav class=\"js-repo-nav js-sidenav-container-pjax js-responsive-underlinenav overflow-hidden UnderlineNav px-3 px-md-4 px-lg-5 bg-gray-light\" aria-label=\"Repository\" data-pjax=\"#js-repo-pjax-container\">\n  <ul class=\"UnderlineNav-body list-style-none \">\n          <li class=\"d-flex\">\n        <a class=\"js-selected-navigation-item selected UnderlineNav-item hx_underlinenav-item no-wrap js-responsive-underlinenav-item\" data-tab-item=\"code-tab\" data-hotkey=\"g c\" data-ga-click=\"Repository, Navigation click, Code tab\" aria-current=\"page\" data-selected-links=\"repo_source repo_downloads repo_commits repo_releases repo_tags repo_branches repo_packages repo_deployments /panambY/Used_Car_Price\" href=\"/panambY/Used_Car_Price\">\n              <svg classes=\"UnderlineNav-octicon\" display=\"none inline\" height=\"16\" class=\"octicon octicon-code UnderlineNav-octicon d-none d-sm-inline\" viewBox=\"0 0 16 16\" version=\"1.1\" width=\"16\" aria-hidden=\"true\"><path fill-rule=\"evenodd\" d=\"M4.72 3.22a.75.75 0 011.06 1.06L2.06 8l3.72 3.72a.75.75 0 11-1.06 1.06L.47 8.53a.75.75 0 010-1.06l4.25-4.25zm6.56 0a.75.75 0 10-1.06 1.06L13.94 8l-3.72 3.72a.75.75 0 101.06 1.06l4.25-4.25a.75.75 0 000-1.06l-4.25-4.25z\"></path></svg>\n            <span data-content=\"Code\">Code</span>\n              <span class=\"Counter \" title=\"Not available\"></span>\n</a>      </li>\n      <li class=\"d-flex\">\n        <a class=\"js-selected-navigation-item UnderlineNav-item hx_underlinenav-item no-wrap js-responsive-underlinenav-item\" data-tab-item=\"issues-tab\" data-hotkey=\"g i\" data-ga-click=\"Repository, Navigation click, Issues tab\" data-selected-links=\"repo_issues repo_labels repo_milestones /panambY/Used_Car_Price/issues\" href=\"/panambY/Used_Car_Price/issues\">\n              <svg classes=\"UnderlineNav-octicon\" display=\"none inline\" height=\"16\" class=\"octicon octicon-issue-opened UnderlineNav-octicon d-none d-sm-inline\" viewBox=\"0 0 16 16\" version=\"1.1\" width=\"16\" aria-hidden=\"true\"><path fill-rule=\"evenodd\" d=\"M8 1.5a6.5 6.5 0 100 13 6.5 6.5 0 000-13zM0 8a8 8 0 1116 0A8 8 0 010 8zm9 3a1 1 0 11-2 0 1 1 0 012 0zm-.25-6.25a.75.75 0 00-1.5 0v3.5a.75.75 0 001.5 0v-3.5z\"></path></svg>\n            <span data-content=\"Issues\">Issues</span>\n              <span class=\"Counter \" title=\"0\" hidden=\"hidden\">0</span>\n</a>      </li>\n      <li class=\"d-flex\">\n        <a class=\"js-selected-navigation-item UnderlineNav-item hx_underlinenav-item no-wrap js-responsive-underlinenav-item\" data-tab-item=\"pull-requests-tab\" data-hotkey=\"g p\" data-ga-click=\"Repository, Navigation click, Pull requests tab\" data-selected-links=\"repo_pulls checks /panambY/Used_Car_Price/pulls\" href=\"/panambY/Used_Car_Price/pulls\">\n              <svg classes=\"UnderlineNav-octicon\" display=\"none inline\" height=\"16\" class=\"octicon octicon-git-pull-request UnderlineNav-octicon d-none d-sm-inline\" viewBox=\"0 0 16 16\" version=\"1.1\" width=\"16\" aria-hidden=\"true\"><path fill-rule=\"evenodd\" d=\"M7.177 3.073L9.573.677A.25.25 0 0110 .854v4.792a.25.25 0 01-.427.177L7.177 3.427a.25.25 0 010-.354zM3.75 2.5a.75.75 0 100 1.5.75.75 0 000-1.5zm-2.25.75a2.25 2.25 0 113 2.122v5.256a2.251 2.251 0 11-1.5 0V5.372A2.25 2.25 0 011.5 3.25zM11 2.5h-1V4h1a1 1 0 011 1v5.628a2.251 2.251 0 101.5 0V5A2.5 2.5 0 0011 2.5zm1 10.25a.75.75 0 111.5 0 .75.75 0 01-1.5 0zM3.75 12a.75.75 0 100 1.5.75.75 0 000-1.5z\"></path></svg>\n            <span data-content=\"Pull requests\">Pull requests</span>\n              <span class=\"Counter \" title=\"0\" hidden=\"hidden\">0</span>\n</a>      </li>\n      <li class=\"d-flex\">\n        <a class=\"js-selected-navigation-item UnderlineNav-item hx_underlinenav-item no-wrap js-responsive-underlinenav-item\" data-tab-item=\"actions-tab\" data-hotkey=\"g w\" data-ga-click=\"Repository, Navigation click, Actions tab\" data-selected-links=\"repo_actions /panambY/Used_Car_Price/actions\" href=\"/panambY/Used_Car_Price/actions\">\n              <svg classes=\"UnderlineNav-octicon\" display=\"none inline\" height=\"16\" class=\"octicon octicon-play UnderlineNav-octicon d-none d-sm-inline\" viewBox=\"0 0 16 16\" version=\"1.1\" width=\"16\" aria-hidden=\"true\"><path fill-rule=\"evenodd\" d=\"M1.5 8a6.5 6.5 0 1113 0 6.5 6.5 0 01-13 0zM8 0a8 8 0 100 16A8 8 0 008 0zM6.379 5.227A.25.25 0 006 5.442v5.117a.25.25 0 00.379.214l4.264-2.559a.25.25 0 000-.428L6.379 5.227z\"></path></svg>\n            <span data-content=\"Actions\">Actions</span>\n              <span class=\"Counter \" title=\"Not available\"></span>\n</a>      </li>\n      <li class=\"d-flex\">\n        <a class=\"js-selected-navigation-item UnderlineNav-item hx_underlinenav-item no-wrap js-responsive-underlinenav-item\" data-tab-item=\"projects-tab\" data-hotkey=\"g b\" data-ga-click=\"Repository, Navigation click, Projects tab\" data-selected-links=\"repo_projects new_repo_project repo_project /panambY/Used_Car_Price/projects\" href=\"/panambY/Used_Car_Price/projects\">\n              <svg classes=\"UnderlineNav-octicon\" display=\"none inline\" height=\"16\" class=\"octicon octicon-project UnderlineNav-octicon d-none d-sm-inline\" viewBox=\"0 0 16 16\" version=\"1.1\" width=\"16\" aria-hidden=\"true\"><path fill-rule=\"evenodd\" d=\"M1.75 0A1.75 1.75 0 000 1.75v12.5C0 15.216.784 16 1.75 16h12.5A1.75 1.75 0 0016 14.25V1.75A1.75 1.75 0 0014.25 0H1.75zM1.5 1.75a.25.25 0 01.25-.25h12.5a.25.25 0 01.25.25v12.5a.25.25 0 01-.25.25H1.75a.25.25 0 01-.25-.25V1.75zM11.75 3a.75.75 0 00-.75.75v7.5a.75.75 0 001.5 0v-7.5a.75.75 0 00-.75-.75zm-8.25.75a.75.75 0 011.5 0v5.5a.75.75 0 01-1.5 0v-5.5zM8 3a.75.75 0 00-.75.75v3.5a.75.75 0 001.5 0v-3.5A.75.75 0 008 3z\"></path></svg>\n            <span data-content=\"Projects\">Projects</span>\n              <span class=\"Counter \" title=\"0\" hidden=\"hidden\">0</span>\n</a>      </li>\n      <li class=\"d-flex\">\n        <a class=\"js-selected-navigation-item UnderlineNav-item hx_underlinenav-item no-wrap js-responsive-underlinenav-item\" data-tab-item=\"security-tab\" data-hotkey=\"g s\" data-ga-click=\"Repository, Navigation click, Security tab\" data-selected-links=\"security overview alerts policy token_scanning code_scanning /panambY/Used_Car_Price/security\" href=\"/panambY/Used_Car_Price/security\">\n              <svg classes=\"UnderlineNav-octicon\" display=\"none inline\" height=\"16\" class=\"octicon octicon-shield UnderlineNav-octicon d-none d-sm-inline\" viewBox=\"0 0 16 16\" version=\"1.1\" width=\"16\" aria-hidden=\"true\"><path fill-rule=\"evenodd\" d=\"M7.467.133a1.75 1.75 0 011.066 0l5.25 1.68A1.75 1.75 0 0115 3.48V7c0 1.566-.32 3.182-1.303 4.682-.983 1.498-2.585 2.813-5.032 3.855a1.7 1.7 0 01-1.33 0c-2.447-1.042-4.049-2.357-5.032-3.855C1.32 10.182 1 8.566 1 7V3.48a1.75 1.75 0 011.217-1.667l5.25-1.68zm.61 1.429a.25.25 0 00-.153 0l-5.25 1.68a.25.25 0 00-.174.238V7c0 1.358.275 2.666 1.057 3.86.784 1.194 2.121 2.34 4.366 3.297a.2.2 0 00.154 0c2.245-.956 3.582-2.104 4.366-3.298C13.225 9.666 13.5 8.36 13.5 7V3.48a.25.25 0 00-.174-.237l-5.25-1.68zM9 10.5a1 1 0 11-2 0 1 1 0 012 0zm-.25-5.75a.75.75 0 10-1.5 0v3a.75.75 0 001.5 0v-3z\"></path></svg>\n            <span data-content=\"Security\">Security</span>\n              <span class=\"js-security-tab-count Counter \" data-url=\"/panambY/Used_Car_Price/security/overall-count\" title=\"Not available\"></span>\n</a>      </li>\n      <li class=\"d-flex\">\n        <a class=\"js-selected-navigation-item UnderlineNav-item hx_underlinenav-item no-wrap js-responsive-underlinenav-item\" data-tab-item=\"insights-tab\" data-ga-click=\"Repository, Navigation click, Insights tab\" data-selected-links=\"repo_graphs repo_contributors dependency_graph dependabot_updates pulse people /panambY/Used_Car_Price/pulse\" href=\"/panambY/Used_Car_Price/pulse\">\n              <svg classes=\"UnderlineNav-octicon\" display=\"none inline\" height=\"16\" class=\"octicon octicon-graph UnderlineNav-octicon d-none d-sm-inline\" viewBox=\"0 0 16 16\" version=\"1.1\" width=\"16\" aria-hidden=\"true\"><path fill-rule=\"evenodd\" d=\"M1.5 1.75a.75.75 0 00-1.5 0v12.5c0 .414.336.75.75.75h14.5a.75.75 0 000-1.5H1.5V1.75zm14.28 2.53a.75.75 0 00-1.06-1.06L10 7.94 7.53 5.47a.75.75 0 00-1.06 0L3.22 8.72a.75.75 0 001.06 1.06L7 7.06l2.47 2.47a.75.75 0 001.06 0l5.25-5.25z\"></path></svg>\n            <span data-content=\"Insights\">Insights</span>\n              <span class=\"Counter \" title=\"Not available\"></span>\n</a>      </li>\n\n</ul>        <div class=\"position-absolute right-0 pr-3 pr-md-4 pr-lg-5 js-responsive-underlinenav-overflow\" style=\"visibility:hidden;\">\n      <details class=\"details-overlay details-reset position-relative\">\n  <summary role=\"button\">\n              <div class=\"UnderlineNav-item mr-0 border-0\">\n            <svg class=\"octicon octicon-kebab-horizontal\" viewBox=\"0 0 16 16\" version=\"1.1\" width=\"16\" height=\"16\" aria-hidden=\"true\"><path d=\"M8 9a1.5 1.5 0 100-3 1.5 1.5 0 000 3zM1.5 9a1.5 1.5 0 100-3 1.5 1.5 0 000 3zm13 0a1.5 1.5 0 100-3 1.5 1.5 0 000 3z\"></path></svg>\n            <span class=\"sr-only\">More</span>\n          </div>\n\n</summary>            <details-menu class=\"dropdown-menu dropdown-menu-sw \" role=\"menu\">\n  \n            <ul>\n                <li data-menu-item=\"code-tab\" hidden>\n                  <a role=\"menuitem\" class=\"js-selected-navigation-item dropdown-item\" data-selected-links=\" /panambY/Used_Car_Price\" href=\"/panambY/Used_Car_Price\">\n                    Code\n</a>                </li>\n                <li data-menu-item=\"issues-tab\" hidden>\n                  <a role=\"menuitem\" class=\"js-selected-navigation-item dropdown-item\" data-selected-links=\" /panambY/Used_Car_Price/issues\" href=\"/panambY/Used_Car_Price/issues\">\n                    Issues\n</a>                </li>\n                <li data-menu-item=\"pull-requests-tab\" hidden>\n                  <a role=\"menuitem\" class=\"js-selected-navigation-item dropdown-item\" data-selected-links=\" /panambY/Used_Car_Price/pulls\" href=\"/panambY/Used_Car_Price/pulls\">\n                    Pull requests\n</a>                </li>\n                <li data-menu-item=\"actions-tab\" hidden>\n                  <a role=\"menuitem\" class=\"js-selected-navigation-item dropdown-item\" data-selected-links=\" /panambY/Used_Car_Price/actions\" href=\"/panambY/Used_Car_Price/actions\">\n                    Actions\n</a>                </li>\n                <li data-menu-item=\"projects-tab\" hidden>\n                  <a role=\"menuitem\" class=\"js-selected-navigation-item dropdown-item\" data-selected-links=\" /panambY/Used_Car_Price/projects\" href=\"/panambY/Used_Car_Price/projects\">\n                    Projects\n</a>                </li>\n                <li data-menu-item=\"security-tab\" hidden>\n                  <a role=\"menuitem\" class=\"js-selected-navigation-item dropdown-item\" data-selected-links=\" /panambY/Used_Car_Price/security\" href=\"/panambY/Used_Car_Price/security\">\n                    Security\n</a>                </li>\n                <li data-menu-item=\"insights-tab\" hidden>\n                  <a role=\"menuitem\" class=\"js-selected-navigation-item dropdown-item\" data-selected-links=\" /panambY/Used_Car_Price/pulse\" href=\"/panambY/Used_Car_Price/pulse\">\n                    Insights\n</a>                </li>\n            </ul>\n\n</details-menu>\n</details>    </div>\n\n</nav>\n  </div>\n\n<div class=\"container-xl clearfix new-discussion-timeline  px-3 px-md-4 px-lg-5\">\n  <div class=\"repository-content \" >\n\n    \n    \n\n  \n\n\n    <a class=\"d-none js-permalink-shortcut\" data-hotkey=\"y\" href=\"/panambY/Used_Car_Price/blob/dfa296ac9f0b6f424b5588461d70e3e6e03ab301/image/Hyphoteses_Map.png\">Permalink</a>\n\n    <!-- blob contrib key: blob_contributors:v22:e7357db6136ef487ad8e8241ee14a825 -->\n      <signup-prompt class=\"signup-prompt-bg rounded-1\" data-prompt=\"signup\" hidden>\n    <div class=\"signup-prompt p-4 text-center mb-4 rounded-1\">\n      <div class=\"position-relative\">\n        <button\n          type=\"button\"\n          class=\"position-absolute top-0 right-0 btn-link link-gray\"\n          data-action=\"click:signup-prompt#dismiss\"\n          data-ga-click=\"(Logged out) Sign up prompt, clicked Dismiss, text:dismiss\"\n        >\n          Dismiss\n        </button>\n        <h3 class=\"pt-2\">Join GitHub today</h3>\n        <p class=\"col-6 mx-auto\">GitHub is home to over 50 million developers working together to host and review code, manage projects, and build software together.</p>\n        <a class=\"btn btn-primary\" data-ga-click=\"(Logged out) Sign up prompt, clicked Sign up, text:sign-up\" data-hydro-click=\"{&quot;event_type&quot;:&quot;authentication.click&quot;,&quot;payload&quot;:{&quot;location_in_page&quot;:&quot;files signup prompt&quot;,&quot;repository_id&quot;:null,&quot;auth_type&quot;:&quot;SIGN_UP&quot;,&quot;originating_url&quot;:&quot;https://github.com/panambY/Used_Car_Price/blob/master/image/Hyphoteses_Map.png&quot;,&quot;user_id&quot;:null}}\" data-hydro-click-hmac=\"a737fce193660dfa4209166269ef92a717945ff188997f7fedc1ef85ba6e73d5\" href=\"/join?source=prompt-blob-show&amp;source_repo=panambY%2FUsed_Car_Price\">Sign up</a>\n      </div>\n    </div>\n  </signup-prompt>\n\n\n    <div class=\"d-flex flex-items-start flex-shrink-0 pb-3 flex-wrap flex-md-nowrap flex-justify-between flex-md-justify-start\">\n      \n<details class=\"details-reset details-overlay mr-0 mb-0 \" id=\"branch-select-menu\">\n  <summary class=\"btn css-truncate\"\n           data-hotkey=\"w\"\n           title=\"Switch branches or tags\">\n    <svg text=\"gray\" height=\"16\" class=\"octicon octicon-git-branch text-gray\" viewBox=\"0 0 16 16\" version=\"1.1\" width=\"16\" aria-hidden=\"true\"><path fill-rule=\"evenodd\" d=\"M11.75 2.5a.75.75 0 100 1.5.75.75 0 000-1.5zm-2.25.75a2.25 2.25 0 113 2.122V6A2.5 2.5 0 0110 8.5H6a1 1 0 00-1 1v1.128a2.251 2.251 0 11-1.5 0V5.372a2.25 2.25 0 111.5 0v1.836A2.492 2.492 0 016 7h4a1 1 0 001-1v-.628A2.25 2.25 0 019.5 3.25zM4.25 12a.75.75 0 100 1.5.75.75 0 000-1.5zM3.5 3.25a.75.75 0 111.5 0 .75.75 0 01-1.5 0z\"></path></svg>\n    <span class=\"css-truncate-target\" data-menu-button>master</span>\n    <span class=\"dropdown-caret\"></span>\n  </summary>\n\n  <details-menu class=\"SelectMenu SelectMenu--hasFilter\" src=\"/panambY/Used_Car_Price/refs/master/image/Hyphoteses_Map.png?source_action=show&amp;source_controller=blob\" preload>\n    <div class=\"SelectMenu-modal\">\n      <include-fragment class=\"SelectMenu-loading\" aria-label=\"Menu is loading\">\n        <svg class=\"octicon octicon-octoface anim-pulse\" height=\"32\" viewBox=\"0 0 16 16\" version=\"1.1\" width=\"32\" aria-hidden=\"true\"><path fill-rule=\"evenodd\" d=\"M14.7 5.34c.13-.32.55-1.59-.13-3.31 0 0-1.05-.33-3.44 1.3-1-.28-2.07-.32-3.13-.32s-2.13.04-3.13.32c-2.39-1.64-3.44-1.3-3.44-1.3-.68 1.72-.26 2.99-.13 3.31C.49 6.21 0 7.33 0 8.69 0 13.84 3.33 15 7.98 15S16 13.84 16 8.69c0-1.36-.49-2.48-1.3-3.35zM8 14.02c-3.3 0-5.98-.15-5.98-3.35 0-.76.38-1.48 1.02-2.07 1.07-.98 2.9-.46 4.96-.46 2.07 0 3.88-.52 4.96.46.65.59 1.02 1.3 1.02 2.07 0 3.19-2.68 3.35-5.98 3.35zM5.49 9.01c-.66 0-1.2.8-1.2 1.78s.54 1.79 1.2 1.79c.66 0 1.2-.8 1.2-1.79s-.54-1.78-1.2-1.78zm5.02 0c-.66 0-1.2.79-1.2 1.78s.54 1.79 1.2 1.79c.66 0 1.2-.8 1.2-1.79s-.53-1.78-1.2-1.78z\"></path></svg>\n      </include-fragment>\n    </div>\n  </details-menu>\n</details>\n\n      <h2 id=\"blob-path\" class=\"breadcrumb flex-auto min-width-0 text-normal mx-0 mx-md-3 width-full width-md-auto flex-order-1 flex-md-order-none mt-3 mt-md-0\">\n        <span class=\"js-repo-root text-bold\"><span class=\"js-path-segment d-inline-block wb-break-all\"><a data-pjax=\"true\" href=\"/panambY/Used_Car_Price\"><span>Used_Car_Price</span></a></span></span><span class=\"separator\">/</span><span class=\"js-path-segment d-inline-block wb-break-all\"><a data-pjax=\"true\" href=\"/panambY/Used_Car_Price/tree/master/image\"><span>image</span></a></span><span class=\"separator\">/</span><strong class=\"final-path\">Hyphoteses_Map.png</strong>\n      </h2>\n      <a href=\"/panambY/Used_Car_Price/find/master\"\n            class=\"js-pjax-capture-input btn mr-2 d-none d-md-block\"\n            data-pjax\n            data-hotkey=\"t\">\n        Go to file\n      </a>\n\n      <details class=\"details-overlay details-reset position-relative\" id=\"blob-more-options-details\">\n  <summary role=\"button\">\n              <span class=\"btn\">\n            <svg aria-label=\"More options\" height=\"16\" class=\"octicon octicon-kebab-horizontal\" viewBox=\"0 0 16 16\" version=\"1.1\" width=\"16\" role=\"img\"><path d=\"M8 9a1.5 1.5 0 100-3 1.5 1.5 0 000 3zM1.5 9a1.5 1.5 0 100-3 1.5 1.5 0 000 3zm13 0a1.5 1.5 0 100-3 1.5 1.5 0 000 3z\"></path></svg>\n          </span>\n\n</summary>            <ul class=\"dropdown-menu dropdown-menu-sw\">\n            <li class=\"d-block d-md-none\">\n              <a class=\"dropdown-item d-flex flex-items-baseline\" data-hydro-click=\"{&quot;event_type&quot;:&quot;repository.click&quot;,&quot;payload&quot;:{&quot;target&quot;:&quot;FIND_FILE_BUTTON&quot;,&quot;repository_id&quot;:279868409,&quot;originating_url&quot;:&quot;https://github.com/panambY/Used_Car_Price/blob/master/image/Hyphoteses_Map.png&quot;,&quot;user_id&quot;:null}}\" data-hydro-click-hmac=\"d3cc143cce8c972e6377898e7a2c21e379f5dfdb1eea18f053a204d0a7a4dd73\" data-ga-click=\"Repository, find file, location:repo overview\" data-hotkey=\"t\" data-pjax=\"true\" href=\"/panambY/Used_Car_Price/find/master\">\n                <span class=\"flex-auto\">Go to file</span>\n                <span class=\"text-small text-gray\" aria-hidden=\"true\">T</span>\n</a>            </li>\n            <li data-toggle-for=\"blob-more-options-details\">\n              <button type=\"button\" data-toggle-for=\"jumpto-line-details-dialog\" class=\"btn-link dropdown-item\">\n                <span class=\"d-flex flex-items-baseline\">\n                  <span class=\"flex-auto\">Go to line</span>\n                  <span class=\"text-small text-gray\" aria-hidden=\"true\">L</span>\n                </span>\n              </button>\n            </li>\n            <li class=\"dropdown-divider\" role=\"none\"></li>\n            <li>\n              <clipboard-copy value=\"image/Hyphoteses_Map.png\" class=\"dropdown-item cursor-pointer\" data-toggle-for=\"blob-more-options-details\">\n                Copy path\n              </clipboard-copy>\n            </li>\n          </ul>\n\n</details>    </div>\n\n\n\n    <div class=\"Box d-flex flex-column flex-shrink-0 mb-3\">\n      <include-fragment src=\"/panambY/Used_Car_Price/contributors/master/image/Hyphoteses_Map.png\" class=\"commit-loader\">\n        <div class=\"Box-header Box-header--blue d-flex flex-items-center\">\n          <div class=\"Skeleton avatar avatar-user flex-shrink-0 ml-n1 mr-n1 mt-n1 mb-n1\" style=\"width:24px;height:24px;\"></div>\n          <div class=\"Skeleton Skeleton--text col-5 ml-2\">&nbsp;</div>\n        </div>\n\n        <div class=\"Box-body d-flex flex-items-center\" >\n          <div class=\"Skeleton Skeleton--text col-1\">&nbsp;</div>\n          <span class=\"text-red h6 loader-error\">Cannot retrieve contributors at this time</span>\n        </div>\n</include-fragment>    </div>\n\n\n\n\n\n\n    <div class=\"Box mt-3 position-relative\n      \">\n      \n<div class=\"Box-header py-2 d-flex flex-column flex-shrink-0 flex-md-row flex-md-items-center\">\n  <div class=\"text-mono f6 flex-auto pr-3 flex-order-2 flex-md-order-1 mt-2 mt-md-0\">\n\n    182 KB\n  </div>\n\n  <div class=\"d-flex py-1 py-md-0 flex-auto flex-order-1 flex-md-order-2 flex-sm-grow-0 flex-justify-between\">\n\n    <div class=\"BtnGroup\">\n      <a class=\"btn btn-sm BtnGroup-item \" href=\"/panambY/Used_Car_Price/raw/master/image/Hyphoteses_Map.png\" id=\"raw-url\" role=\"button\">Download</a>\n    </div>\n\n    <div>\n          <a class=\"btn-octicon tooltipped tooltipped-nw js-remove-unless-platform\"\n             data-platforms=\"windows,mac\"\n             href=\"https://desktop.github.com\"\n             aria-label=\"Open this file in GitHub Desktop\"\n             data-ga-click=\"Repository, open with desktop\">\n              <svg class=\"octicon octicon-device-desktop\" viewBox=\"0 0 16 16\" version=\"1.1\" width=\"16\" height=\"16\" aria-hidden=\"true\"><path fill-rule=\"evenodd\" d=\"M1.75 2.5h12.5a.25.25 0 01.25.25v7.5a.25.25 0 01-.25.25H1.75a.25.25 0 01-.25-.25v-7.5a.25.25 0 01.25-.25zM14.25 1H1.75A1.75 1.75 0 000 2.75v7.5C0 11.216.784 12 1.75 12h3.727c-.1 1.041-.52 1.872-1.292 2.757A.75.75 0 004.75 16h6.5a.75.75 0 00.565-1.243c-.772-.885-1.193-1.716-1.292-2.757h3.727A1.75 1.75 0 0016 10.25v-7.5A1.75 1.75 0 0014.25 1zM9.018 12H6.982a5.72 5.72 0 01-.765 2.5h3.566a5.72 5.72 0 01-.765-2.5z\"></path></svg>\n          </a>\n\n          <!-- '\"` --><!-- </textarea></xmp> --></option></form><form class=\"inline-form\" action=\"/panambY/Used_Car_Price/delete/master/image/Hyphoteses_Map.png\" accept-charset=\"UTF-8\" method=\"post\"><input type=\"hidden\" data-csrf=\"true\" name=\"authenticity_token\" value=\"X9L+LGjzGh38kVV4QeRTn/RZ4akivmgDmMBZ4f5hJL837qldop7irXa8NpB3zK2ncqHW1QICCrN2WDv2BNhGWQ==\" />\n            <button class=\"btn-octicon btn-octicon-danger tooltipped tooltipped-nw\" type=\"submit\"\n              aria-label=\"You must be signed in to make or propose changes\" data-disable-with>\n              <svg class=\"octicon octicon-trashcan\" viewBox=\"0 0 16 16\" version=\"1.1\" width=\"16\" height=\"16\" aria-hidden=\"true\"><path fill-rule=\"evenodd\" d=\"M6.5 1.75a.25.25 0 01.25-.25h2.5a.25.25 0 01.25.25V3h-3V1.75zm4.5 0V3h2.25a.75.75 0 010 1.5H2.75a.75.75 0 010-1.5H5V1.75C5 .784 5.784 0 6.75 0h2.5C10.216 0 11 .784 11 1.75zM4.496 6.675a.75.75 0 10-1.492.15l.66 6.6A1.75 1.75 0 005.405 15h5.19c.9 0 1.652-.681 1.741-1.576l.66-6.6a.75.75 0 00-1.492-.149l-.66 6.6a.25.25 0 01-.249.225h-5.19a.25.25 0 01-.249-.225l-.66-6.6z\"></path></svg>\n            </button>\n</form>    </div>\n  </div>\n</div>\n\n\n\n      \n\n  <div itemprop=\"text\" class=\"Box-body p-0 blob-wrapper data type-text \">\n      <div class=\"text-center p-3\">\n          <span class=\"border-wrap\"><img src=\"/panambY/Used_Car_Price/blob/master/image/Hyphoteses_Map.png?raw=true\" alt=\"Hyphoteses_Map.png\"></span>\n      </div>\n  </div>\n\n    </div>\n\n  \n\n\n  <details class=\"details-reset details-overlay details-overlay-dark\" id=\"jumpto-line-details-dialog\">\n    <summary data-hotkey=\"l\" aria-label=\"Jump to line\"></summary>\n    <details-dialog class=\"Box Box--overlay d-flex flex-column anim-fade-in fast linejump\" aria-label=\"Jump to line\">\n      <!-- '\"` --><!-- </textarea></xmp> --></option></form><form class=\"js-jump-to-line-form Box-body d-flex\" action=\"\" accept-charset=\"UTF-8\" method=\"get\">\n        <input class=\"form-control flex-auto mr-3 linejump-input js-jump-to-line-field\" type=\"text\" placeholder=\"Jump to line&hellip;\" aria-label=\"Jump to line\" autofocus>\n        <button type=\"submit\" class=\"btn\" data-close-dialog>Go</button>\n</form>    </details-dialog>\n  </details>\n\n\n\n\n  </div>\n</div>\n\n    </main>\n  </div>\n  \n\n  </div>\n\n        \n<div class=\"footer container-xl width-full p-responsive\" role=\"contentinfo\">\n  <div class=\"position-relative d-flex flex-row-reverse flex-lg-row flex-wrap flex-lg-nowrap flex-justify-center flex-lg-justify-between pt-6 pb-2 mt-6 f6 text-gray border-top border-gray-light \">\n    <ul class=\"list-style-none d-flex flex-wrap col-12 col-lg-5 flex-justify-center flex-lg-justify-between mb-2 mb-lg-0\">\n      <li class=\"mr-3 mr-lg-0\">&copy; 2020 GitHub, Inc.</li>\n        <li class=\"mr-3 mr-lg-0\"><a data-ga-click=\"Footer, go to terms, text:terms\" href=\"https://github.com/site/terms\">Terms</a></li>\n        <li class=\"mr-3 mr-lg-0\"><a data-ga-click=\"Footer, go to privacy, text:privacy\" href=\"https://github.com/site/privacy\">Privacy</a></li>\n        <li class=\"mr-3 mr-lg-0\"><a data-ga-click=\"Footer, go to security, text:security\" href=\"https://github.com/security\">Security</a></li>\n        <li class=\"mr-3 mr-lg-0\"><a href=\"https://githubstatus.com/\" data-ga-click=\"Footer, go to status, text:status\">Status</a></li>\n        <li><a data-ga-click=\"Footer, go to help, text:help\" href=\"https://help.github.com\">Help</a></li>\n\n    </ul>\n\n    <a aria-label=\"Homepage\" title=\"GitHub\" class=\"footer-octicon d-none d-lg-block mx-lg-4\" href=\"https://github.com\">\n      <svg height=\"24\" class=\"octicon octicon-mark-github\" viewBox=\"0 0 16 16\" version=\"1.1\" width=\"24\" aria-hidden=\"true\"><path fill-rule=\"evenodd\" d=\"M8 0C3.58 0 0 3.58 0 8c0 3.54 2.29 6.53 5.47 7.59.4.07.55-.17.55-.38 0-.19-.01-.82-.01-1.49-2.01.37-2.53-.49-2.69-.94-.09-.23-.48-.94-.82-1.13-.28-.15-.68-.52-.01-.53.63-.01 1.08.58 1.23.82.72 1.21 1.87.87 2.33.66.07-.52.28-.87.51-1.07-1.78-.2-3.64-.89-3.64-3.95 0-.87.31-1.59.82-2.15-.08-.2-.36-1.02.08-2.12 0 0 .67-.21 2.2.82.64-.18 1.32-.27 2-.27.68 0 1.36.09 2 .27 1.53-1.04 2.2-.82 2.2-.82.44 1.1.16 1.92.08 2.12.51.56.82 1.27.82 2.15 0 3.07-1.87 3.75-3.65 3.95.29.25.54.73.54 1.48 0 1.07-.01 1.93-.01 2.2 0 .21.15.46.55.38A8.013 8.013 0 0016 8c0-4.42-3.58-8-8-8z\"></path></svg>\n</a>\n   <ul class=\"list-style-none d-flex flex-wrap col-12 col-lg-5 flex-justify-center flex-lg-justify-between mb-2 mb-lg-0\">\n        <li class=\"mr-3 mr-lg-0\"><a data-ga-click=\"Footer, go to contact, text:contact\" href=\"https://github.com/contact\">Contact GitHub</a></li>\n        <li class=\"mr-3 mr-lg-0\"><a href=\"https://github.com/pricing\" data-ga-click=\"Footer, go to Pricing, text:Pricing\">Pricing</a></li>\n      <li class=\"mr-3 mr-lg-0\"><a href=\"https://developer.github.com\" data-ga-click=\"Footer, go to api, text:api\">API</a></li>\n      <li class=\"mr-3 mr-lg-0\"><a href=\"https://training.github.com\" data-ga-click=\"Footer, go to training, text:training\">Training</a></li>\n        <li class=\"mr-3 mr-lg-0\"><a href=\"https://github.blog\" data-ga-click=\"Footer, go to blog, text:blog\">Blog</a></li>\n        <li><a data-ga-click=\"Footer, go to about, text:about\" href=\"https://github.com/about\">About</a></li>\n    </ul>\n  </div>\n  <div class=\"d-flex flex-justify-center pb-6\">\n    <span class=\"f6 text-gray-light\"></span>\n  </div>\n</div>\n\n\n\n  <div id=\"ajax-error-message\" class=\"ajax-error-message flash flash-error\">\n    <svg class=\"octicon octicon-alert\" viewBox=\"0 0 16 16\" version=\"1.1\" width=\"16\" height=\"16\" aria-hidden=\"true\"><path fill-rule=\"evenodd\" d=\"M8.22 1.754a.25.25 0 00-.44 0L1.698 13.132a.25.25 0 00.22.368h12.164a.25.25 0 00.22-.368L8.22 1.754zm-1.763-.707c.659-1.234 2.427-1.234 3.086 0l6.082 11.378A1.75 1.75 0 0114.082 15H1.918a1.75 1.75 0 01-1.543-2.575L6.457 1.047zM9 11a1 1 0 11-2 0 1 1 0 012 0zm-.25-5.25a.75.75 0 00-1.5 0v2.5a.75.75 0 001.5 0v-2.5z\"></path></svg>\n    <button type=\"button\" class=\"flash-close js-ajax-error-dismiss\" aria-label=\"Dismiss error\">\n      <svg class=\"octicon octicon-x\" viewBox=\"0 0 16 16\" version=\"1.1\" width=\"16\" height=\"16\" aria-hidden=\"true\"><path fill-rule=\"evenodd\" d=\"M3.72 3.72a.75.75 0 011.06 0L8 6.94l3.22-3.22a.75.75 0 111.06 1.06L9.06 8l3.22 3.22a.75.75 0 11-1.06 1.06L8 9.06l-3.22 3.22a.75.75 0 01-1.06-1.06L6.94 8 3.72 4.78a.75.75 0 010-1.06z\"></path></svg>\n    </button>\n    You can’t perform that action at this time.\n  </div>\n\n\n    <script crossorigin=\"anonymous\" async=\"async\" integrity=\"sha512-bn/3rKJzBl2H64K38R8KaVcT26vKK7BJQC59lwYc+9fjlHzmy0fwh+hzBtsgTdhIi13dxjzNKWhdSN8WTM9qUw==\" type=\"application/javascript\" id=\"js-conditional-compat\" data-src=\"https://github.githubassets.com/assets/compat-bootstrap-6e7ff7ac.js\"></script>\n    <script crossorigin=\"anonymous\" integrity=\"sha512-pUTnKCTI5AwDjCcoRca4GvqbIie8gPdp9KbzQU/NeHBalvs7YdiDc26EOOfICdPj0MmXFBzHkLn3bUyO7uPLeA==\" type=\"application/javascript\" src=\"https://github.githubassets.com/assets/environment-bootstrap-a544e728.js\"></script>\n    <script crossorigin=\"anonymous\" async=\"async\" integrity=\"sha512-Ncm8EEN+jdJqci1dTZ4/BCY+ueKmNOQiPQj6rcX2/6qKIdf1hJqQZnJJEjoFj18nEkD/hus03JOBTjmHB3jNMg==\" type=\"application/javascript\" src=\"https://github.githubassets.com/assets/vendor-35c9bc10.js\"></script>\n    <script crossorigin=\"anonymous\" async=\"async\" integrity=\"sha512-VvafeXTzUvpmD50UYlFogaWkqft7Ft6nZDrrMYnOt6teK7K0jdsMTPK15IoB0QyD4urDH5nfruPyckKuuUxaWQ==\" type=\"application/javascript\" src=\"https://github.githubassets.com/assets/frameworks-56f69f79.js\"></script>\n    \n    <script crossorigin=\"anonymous\" async=\"async\" integrity=\"sha512-ykVqKskYBMgqGN/dZ+ObXjsBMy2bZCrHswYpUilhUd6eZyJ1itSqiqQ1NYgmdL/P36y7Gotcjv9IKpd1TghIaQ==\" type=\"application/javascript\" src=\"https://github.githubassets.com/assets/github-bootstrap-ca456a2a.js\"></script>\n    \n      <script crossorigin=\"anonymous\" async=\"async\" integrity=\"sha512-TjmDUfspgN28WRWfc01tOL0BFS8pI/TAi8TQ665TcA3jG1C3QgfFu0YKa32Z03rlEL8dukbsy+amwBzgGyjESQ==\" type=\"application/javascript\" data-module-id=\"./Sortable.js\" data-src=\"https://github.githubassets.com/assets/Sortable-4e398351.js\"></script>\n      <script crossorigin=\"anonymous\" async=\"async\" integrity=\"sha512-4GcSWGoe36+BoWho4gtJcByZe8j43w+lt2/PDe3rmBxRVSgD29YipDwuIywe8fvOd2b2CszBqaPGxSznUtE3Xg==\" type=\"application/javascript\" data-module-id=\"./drag-drop.js\" data-src=\"https://github.githubassets.com/assets/drag-drop-e0671258.js\"></script>\n      <script crossorigin=\"anonymous\" async=\"async\" integrity=\"sha512-MttsTK6LRLl4AiQlvZ8MfNsDe0brgs9ubvDV/Ck6sVM+MnjEn+6tfF4hS8ENrXG1v+lBHFWmAS5j43gum0xsXw==\" type=\"application/javascript\" data-module-id=\"./gist-vendor.js\" data-src=\"https://github.githubassets.com/assets/gist-vendor-32db6c4c.js\"></script>\n      <script crossorigin=\"anonymous\" async=\"async\" integrity=\"sha512-iLuC2weaJqL9mYAud2WDWjhd8cJe8dXVxw2KhCH2Rnj6WJvTzlZRmvTtL09wNWX6nRze/TDaQ7gq7BFLchaDYg==\" type=\"application/javascript\" data-module-id=\"./image-crop-element-loader.js\" data-src=\"https://github.githubassets.com/assets/image-crop-element-loader-88bb82db.js\"></script>\n      <script crossorigin=\"anonymous\" async=\"async\" integrity=\"sha512-SzrmrFC6Li3booxqs0mRixus2NKXsmDzy81YKIdwyd4llzBUojVrUd87DAv4Gm3LlROU45cG5C6/noBz+/exMA==\" type=\"application/javascript\" data-module-id=\"./profile-pins-element.js\" data-src=\"https://github.githubassets.com/assets/profile-pins-element-4b3ae6ac.js\"></script>\n      <script crossorigin=\"anonymous\" async=\"async\" integrity=\"sha512-qECv/jhsvLFN77eGNu0cjMR2+zvAlLyhQVTnmayJc5OLZoxMLjQZxZW1hK/dhcYro6Wec/aiF21HYf2N5OilYQ==\" type=\"application/javascript\" data-module-id=\"./randomColor.js\" data-src=\"https://github.githubassets.com/assets/randomColor-a840affe.js\"></script>\n      <script crossorigin=\"anonymous\" async=\"async\" integrity=\"sha512-45AwxR1TB7Z8BL0dnYOrINtveNF4Du3OaUdubEdbdfYrswXjalLxzIFenU8e6CVEoL6pHMHLLzXRPFokwAWmsw==\" type=\"application/javascript\" data-module-id=\"./tweetsodium.js\" data-src=\"https://github.githubassets.com/assets/tweetsodium-e39030c5.js\"></script>\n      <script crossorigin=\"anonymous\" async=\"async\" integrity=\"sha512-pyCjN7R7IeimPxv2cWSgc7Jovuu5uCqEV8sJthsjO8DQMX2oXoLnPhzyph1U+GpMuScf+xfhNbpUQrRXohaeLw==\" type=\"application/javascript\" data-module-id=\"./user-status-submit.js\" data-src=\"https://github.githubassets.com/assets/user-status-submit-a720a337.js\"></script>\n    \n    \n  <div class=\"js-stale-session-flash flash flash-warn flash-banner\" hidden\n    >\n    <svg class=\"octicon octicon-alert\" viewBox=\"0 0 16 16\" version=\"1.1\" width=\"16\" height=\"16\" aria-hidden=\"true\"><path fill-rule=\"evenodd\" d=\"M8.22 1.754a.25.25 0 00-.44 0L1.698 13.132a.25.25 0 00.22.368h12.164a.25.25 0 00.22-.368L8.22 1.754zm-1.763-.707c.659-1.234 2.427-1.234 3.086 0l6.082 11.378A1.75 1.75 0 0114.082 15H1.918a1.75 1.75 0 01-1.543-2.575L6.457 1.047zM9 11a1 1 0 11-2 0 1 1 0 012 0zm-.25-5.25a.75.75 0 00-1.5 0v2.5a.75.75 0 001.5 0v-2.5z\"></path></svg>\n    <span class=\"js-stale-session-flash-signed-in\" hidden>You signed in with another tab or window. <a href=\"\">Reload</a> to refresh your session.</span>\n    <span class=\"js-stale-session-flash-signed-out\" hidden>You signed out in another tab or window. <a href=\"\">Reload</a> to refresh your session.</span>\n  </div>\n  <template id=\"site-details-dialog\">\n  <details class=\"details-reset details-overlay details-overlay-dark lh-default text-gray-dark hx_rsm\" open>\n    <summary role=\"button\" aria-label=\"Close dialog\"></summary>\n    <details-dialog class=\"Box Box--overlay d-flex flex-column anim-fade-in fast hx_rsm-dialog hx_rsm-modal\">\n      <button class=\"Box-btn-octicon m-0 btn-octicon position-absolute right-0 top-0\" type=\"button\" aria-label=\"Close dialog\" data-close-dialog>\n        <svg class=\"octicon octicon-x\" viewBox=\"0 0 16 16\" version=\"1.1\" width=\"16\" height=\"16\" aria-hidden=\"true\"><path fill-rule=\"evenodd\" d=\"M3.72 3.72a.75.75 0 011.06 0L8 6.94l3.22-3.22a.75.75 0 111.06 1.06L9.06 8l3.22 3.22a.75.75 0 11-1.06 1.06L8 9.06l-3.22 3.22a.75.75 0 01-1.06-1.06L6.94 8 3.72 4.78a.75.75 0 010-1.06z\"></path></svg>\n      </button>\n      <div class=\"octocat-spinner my-6 js-details-dialog-spinner\"></div>\n    </details-dialog>\n  </details>\n</template>\n\n  <div class=\"Popover js-hovercard-content position-absolute\" style=\"display: none; outline: none;\" tabindex=\"0\">\n  <div class=\"Popover-message Popover-message--bottom-left Popover-message--large Box box-shadow-large\" style=\"width:360px;\">\n  </div>\n</div>\n\n\n  </body>\n</html>\n\n",
            "text/plain": [
              "<IPython.core.display.Image object>"
            ]
          },
          "metadata": {
            "tags": []
          },
          "execution_count": 29
        }
      ]
    },
    {
      "cell_type": "markdown",
      "metadata": {
        "id": "cBoADVj2rEPj",
        "colab_type": "text"
      },
      "source": [
        "## 2.1 Creation of Hyphoteses"
      ]
    },
    {
      "cell_type": "markdown",
      "metadata": {
        "id": "gfRoG89brEPj",
        "colab_type": "text"
      },
      "source": [
        "### 2.1.1 Condition Hyphoteses"
      ]
    },
    {
      "cell_type": "markdown",
      "metadata": {
        "id": "H8tixlp4rEPj",
        "colab_type": "text"
      },
      "source": [
        "**1.** Painting\n",
        "\n",
        "**2.** Interior with good condition has higher price\n",
        "\n",
        "**3.** Used cars with high Mailage has lower price.\n",
        "\n",
        "**4.** Appearance\n",
        "\n",
        "**5.** Mechanical\n",
        "\n",
        "**6.** Insurance"
      ]
    },
    {
      "cell_type": "markdown",
      "metadata": {
        "id": "YuYy5JGXrEPk",
        "colab_type": "text"
      },
      "source": [
        "### 2.1.2 Location Hyphoteses"
      ]
    },
    {
      "cell_type": "markdown",
      "metadata": {
        "id": "rcJ4YmgdrEPk",
        "colab_type": "text"
      },
      "source": [
        "**1.** Neighborhood\n",
        "\n",
        "**2.** Region\n",
        "\n",
        "**3.** District\n",
        "\n",
        "**4.** City\n",
        "\n",
        "**5.** State\n",
        "\n",
        "**6.** Urban\n",
        "\n",
        "**7.** Rural\n",
        "\n",
        "**8.** Country"
      ]
    },
    {
      "cell_type": "markdown",
      "metadata": {
        "id": "GAv2NGe9rEPl",
        "colab_type": "text"
      },
      "source": [
        "### 2.1.3 Category Hyphoteses"
      ]
    },
    {
      "cell_type": "markdown",
      "metadata": {
        "id": "tXN5g-DHrEPl",
        "colab_type": "text"
      },
      "source": [
        "**1.** Size\n",
        "\n",
        "**2.** Manufacturer\n",
        "\n",
        "**3.** Drive\n",
        "\n",
        "**4.** Brand\n",
        "\n",
        "**5.** Model\n",
        "\n",
        "**6.** Segment\n",
        "\n",
        "**7.** Fuel\n",
        "\n",
        "**8.** Type"
      ]
    },
    {
      "cell_type": "markdown",
      "metadata": {
        "id": "HxyU1_FgrEPl",
        "colab_type": "text"
      },
      "source": [
        "### 2.1.4 Acessories Hyphoteses"
      ]
    },
    {
      "cell_type": "markdown",
      "metadata": {
        "id": "sAiciJ93rEPm",
        "colab_type": "text"
      },
      "source": [
        "**1.** Transmission\n",
        "\n",
        "**2.** Paint-color\n",
        "\n",
        "**3.** High-end stereos\n",
        "\n",
        "**4.** Airbags\n",
        "\n",
        "**5.** Air-condition\n",
        "\n",
        "**6.** Automatic pilot\n",
        "\n",
        "**7.** Supercharger kits\n",
        "\n",
        "**8.** Custom rims\n",
        "\n",
        "**9.** Cylinders"
      ]
    },
    {
      "cell_type": "markdown",
      "metadata": {
        "id": "iEZirah-rEPm",
        "colab_type": "text"
      },
      "source": [
        "### 2.1.5 Time Hyphoteses"
      ]
    },
    {
      "cell_type": "markdown",
      "metadata": {
        "id": "0KlX9P2NrEPm",
        "colab_type": "text"
      },
      "source": [
        "**1.** Lat/Long\n",
        "\n",
        "**2.** Lifetime\n",
        "\n",
        "**3.** Age\n",
        "\n",
        "**4.** Season\n",
        "\n",
        "**5.** Holidays"
      ]
    },
    {
      "cell_type": "markdown",
      "metadata": {
        "id": "uElHJ6W9rEPn",
        "colab_type": "text"
      },
      "source": [
        "### 2.1.6 Sales Channel Hyphoteses"
      ]
    },
    {
      "cell_type": "markdown",
      "metadata": {
        "id": "KFpPXklBrEPn",
        "colab_type": "text"
      },
      "source": [
        "**1.** Physical store\n",
        "\n",
        "**2.** Online store\n",
        "\n",
        "**3.** Owner\n",
        "\n",
        "**4.** Middleman"
      ]
    },
    {
      "cell_type": "code",
      "metadata": {
        "id": "1r23QY1CrEPo",
        "colab_type": "code",
        "colab": {}
      },
      "source": [
        ""
      ],
      "execution_count": null,
      "outputs": []
    }
  ]
}